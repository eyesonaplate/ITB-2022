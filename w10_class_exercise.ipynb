{
  "nbformat": 4,
  "nbformat_minor": 0,
  "metadata": {
    "anaconda-cloud": {},
    "colab": {
      "provenance": [],
      "collapsed_sections": [
        "-R6ujoIuqiNU",
        "sAjeOLWC6_fX"
      ],
      "include_colab_link": true
    },
    "kernelspec": {
      "display_name": "Python 3",
      "language": "python",
      "name": "python3"
    },
    "language_info": {
      "codemirror_mode": {
        "name": "ipython",
        "version": 3
      },
      "file_extension": ".py",
      "mimetype": "text/x-python",
      "name": "python",
      "nbconvert_exporter": "python",
      "pygments_lexer": "ipython3",
      "version": "3.5.5"
    }
  },
  "cells": [
    {
      "cell_type": "markdown",
      "metadata": {
        "id": "view-in-github",
        "colab_type": "text"
      },
      "source": [
        "<a href=\"https://colab.research.google.com/github/eyesonaplate/ITB-2022/blob/main/w10_class_exercise.ipynb\" target=\"_parent\"><img src=\"https://colab.research.google.com/assets/colab-badge.svg\" alt=\"Open In Colab\"/></a>"
      ]
    },
    {
      "cell_type": "markdown",
      "source": [
        "# **ITB 22-2학기 10주차 분류 과제**\n",
        "*홍보광고학과 1911298 이지우*"
      ],
      "metadata": {
        "id": "vTg0YMQei6g8"
      }
    },
    {
      "cell_type": "markdown",
      "source": [
        "### **문제**\n",
        "2020년도 건강검진정보 샘플(1만건) 데이터를 이용하여 최적의 분류 모델을 만들고 평가 결과 및 도출된 인사이트를 보여주시오.\n",
        "\n",
        "- 흥미로운 분류 문제 선정: 종속/독립 변수 선택\n",
        "    - 수치 데이터를 범주형으로 변경 가능 (예. 이진 클래스로 변경: 0.5 이상 Y, 0.5 미만 N)\n",
        "    - 건강검진 데이터에 다른 외부 데이터를 연결해서 이용도 가능\n",
        "    - 필요한 경우 데이터 전처리 및 파생변수 생성 \n",
        "- 최적의 분류 모델 선택 (분류 기법, 파라미터) 및 평가 결과\n",
        " - 적절한 평가 방법 1개 선택\n",
        " - 분류 모델의 종류는 3개 이하로 선택, 수업시간에 배우지 않은 분류 모델도 사용 가능 \n",
        "- 분류 모델을 통한 인사이트 도출: 중요 변수 설명 등  \n",
        "- 코드는 github에 올리고 주소 제출\n",
        "\n"
      ],
      "metadata": {
        "id": "9ztJvscY6hDf"
      }
    },
    {
      "cell_type": "markdown",
      "source": [
        "### 필수 실행 코드\n",
        "\n"
      ],
      "metadata": {
        "id": "-R6ujoIuqiNU"
      }
    },
    {
      "cell_type": "code",
      "source": [
        "#한글 깨짐 방지\n",
        "!sudo apt-get install -y fonts-nanum\n",
        "!sudo fc-cache -fv\n",
        "!rm ~/.cache/matplotlib -rf \n",
        "\n",
        "#해당 코드 실행 후 런타임을 다시 실행하면 한글이 깨지지 않음"
      ],
      "metadata": {
        "id": "CurwyP-kKi7q",
        "colab": {
          "base_uri": "https://localhost:8080/"
        },
        "outputId": "a14e929b-f0d4-4ee5-f963-de5036c44c6e"
      },
      "execution_count": null,
      "outputs": [
        {
          "output_type": "stream",
          "name": "stdout",
          "text": [
            "Reading package lists... Done\n",
            "Building dependency tree       \n",
            "Reading state information... Done\n",
            "fonts-nanum is already the newest version (20170925-1).\n",
            "The following package was automatically installed and is no longer required:\n",
            "  libnvidia-common-460\n",
            "Use 'sudo apt autoremove' to remove it.\n",
            "0 upgraded, 0 newly installed, 0 to remove and 5 not upgraded.\n",
            "/usr/share/fonts: caching, new cache contents: 0 fonts, 1 dirs\n",
            "/usr/share/fonts/truetype: caching, new cache contents: 0 fonts, 3 dirs\n",
            "/usr/share/fonts/truetype/humor-sans: caching, new cache contents: 1 fonts, 0 dirs\n",
            "/usr/share/fonts/truetype/liberation: caching, new cache contents: 16 fonts, 0 dirs\n",
            "/usr/share/fonts/truetype/nanum: caching, new cache contents: 10 fonts, 0 dirs\n",
            "/usr/local/share/fonts: caching, new cache contents: 0 fonts, 0 dirs\n",
            "/root/.local/share/fonts: skipping, no such directory\n",
            "/root/.fonts: skipping, no such directory\n",
            "/var/cache/fontconfig: cleaning cache directory\n",
            "/root/.cache/fontconfig: not cleaning non-existent cache directory\n",
            "/root/.fontconfig: not cleaning non-existent cache directory\n",
            "fc-cache: succeeded\n"
          ]
        }
      ]
    },
    {
      "cell_type": "code",
      "source": [
        "#폰트 설정\n",
        "import matplotlib.pyplot as plt\n",
        "plt.rc('font', family='NanumBarunGothic')"
      ],
      "metadata": {
        "id": "8LemX_aYlvt8"
      },
      "execution_count": null,
      "outputs": []
    },
    {
      "cell_type": "code",
      "source": [
        "#파일 경로 설정\n",
        "from google.colab import drive\n",
        "drive.mount('/content/drive')"
      ],
      "metadata": {
        "id": "tNNdKjIvr2jS",
        "colab": {
          "base_uri": "https://localhost:8080/"
        },
        "outputId": "b8a90136-2f14-4035-8989-4856940b70c7"
      },
      "execution_count": null,
      "outputs": [
        {
          "output_type": "stream",
          "name": "stdout",
          "text": [
            "Drive already mounted at /content/drive; to attempt to forcibly remount, call drive.mount(\"/content/drive\", force_remount=True).\n"
          ]
        }
      ]
    },
    {
      "cell_type": "code",
      "source": [
        "#패키지 불러오기\n",
        "import pandas as pd\n",
        "import numpy as np\n",
        "import matplotlib.pyplot as plt"
      ],
      "metadata": {
        "id": "OA1l96sWs0Ku"
      },
      "execution_count": null,
      "outputs": []
    },
    {
      "cell_type": "markdown",
      "source": [
        "### **Step 1. 데이터 탐색**"
      ],
      "metadata": {
        "id": "sAjeOLWC6_fX"
      }
    },
    {
      "cell_type": "code",
      "source": [
        "#csv파일 불러오기\n",
        "health = pd.read_csv(\"/content/drive/My Drive/Colab Notebooks/ITB 2022/health_data.csv\", index_col='가입자일련번호')"
      ],
      "metadata": {
        "id": "NRXtOfOfHBBJ"
      },
      "execution_count": null,
      "outputs": []
    },
    {
      "cell_type": "code",
      "source": [
        "display(health.info())\n",
        "display(health.head())"
      ],
      "metadata": {
        "id": "nQXreDFK8bU9",
        "colab": {
          "base_uri": "https://localhost:8080/",
          "height": 1000
        },
        "outputId": "603b42e8-49e9-48e0-9c65-19c103985db9"
      },
      "execution_count": null,
      "outputs": [
        {
          "output_type": "stream",
          "name": "stdout",
          "text": [
            "<class 'pandas.core.frame.DataFrame'>\n",
            "Int64Index: 10000 entries, 1 to 10000\n",
            "Data columns (total 31 columns):\n",
            " #   Column       Non-Null Count  Dtype  \n",
            "---  ------       --------------  -----  \n",
            " 0   기준년도         10000 non-null  int64  \n",
            " 1   시도코드         10000 non-null  int64  \n",
            " 2   성별코드         10000 non-null  object \n",
            " 3   연령대코드(5세단위)  10000 non-null  int64  \n",
            " 4   연령대          10000 non-null  object \n",
            " 5   신장(5Cm단위)    10000 non-null  int64  \n",
            " 6   체중(5Kg 단위)   10000 non-null  int64  \n",
            " 7   허리둘레         10000 non-null  float64\n",
            " 8   시력(좌)        10000 non-null  float64\n",
            " 9   시력(우)        10000 non-null  float64\n",
            " 10  청력(좌)        10000 non-null  int64  \n",
            " 11  청력(우)        10000 non-null  int64  \n",
            " 12  수축기혈압        9912 non-null   float64\n",
            " 13  이완기혈압        9912 non-null   float64\n",
            " 14  식전혈당(공복혈당)   9912 non-null   float64\n",
            " 15  총콜레스테롤       4044 non-null   float64\n",
            " 16  트리글리세라이드     4044 non-null   float64\n",
            " 17  HDL콜레스테롤     4044 non-null   float64\n",
            " 18  LDL콜레스테롤     3977 non-null   float64\n",
            " 19  혈색소          9912 non-null   float64\n",
            " 20  요단백          9861 non-null   float64\n",
            " 21  혈청크레아티닌      9912 non-null   float64\n",
            " 22  (혈청지오티)AST   9912 non-null   float64\n",
            " 23  (혈청지오티)ALT   9912 non-null   float64\n",
            " 24  감마지티피        9912 non-null   float64\n",
            " 25  흡연상태         9998 non-null   object \n",
            " 26  음주여부         9999 non-null   object \n",
            " 27  구강검진수검여부     10000 non-null  int64  \n",
            " 28  치아우식증유무      3251 non-null   float64\n",
            " 29  치석           3251 non-null   float64\n",
            " 30  데이터공개일자      10000 non-null  object \n",
            "dtypes: float64(18), int64(8), object(5)\n",
            "memory usage: 2.4+ MB\n"
          ]
        },
        {
          "output_type": "display_data",
          "data": {
            "text/plain": [
              "None"
            ]
          },
          "metadata": {}
        },
        {
          "output_type": "display_data",
          "data": {
            "text/plain": [
              "         기준년도  시도코드 성별코드  연령대코드(5세단위)  연령대  신장(5Cm단위)  체중(5Kg 단위)  허리둘레  \\\n",
              "가입자일련번호                                                                   \n",
              "1        2020    36    M            9  40대        165          60  72.1   \n",
              "2        2020    27    F           13  60대        150          65  81.0   \n",
              "3        2020    11    F           12  50대        155          55  70.0   \n",
              "4        2020    31    M           13  60대        160          70  90.8   \n",
              "5        2020    41    F           12  50대        155          50  75.2   \n",
              "\n",
              "         시력(좌)  시력(우)  ...  혈청크레아티닌  (혈청지오티)AST  (혈청지오티)ALT  감마지티피  흡연상태  \\\n",
              "가입자일련번호                ...                                                 \n",
              "1          1.2    1.5  ...      1.1        21.0        27.0   21.0    No   \n",
              "2          0.8    0.8  ...      0.5        18.0        15.0   15.0    No   \n",
              "3          0.6    0.7  ...      0.7        27.0        25.0    7.0    No   \n",
              "4          1.0    1.0  ...      1.2        65.0        97.0   72.0    No   \n",
              "5          1.5    1.2  ...      0.7        18.0        17.0   14.0    No   \n",
              "\n",
              "         음주여부  구강검진수검여부  치아우식증유무   치석     데이터공개일자  \n",
              "가입자일련번호                                            \n",
              "1          No         0      NaN  NaN  12/29/2021  \n",
              "2          No         0      NaN  NaN  12/29/2021  \n",
              "3          No         0      NaN  NaN  12/29/2021  \n",
              "4          No         1      0.0  0.0  12/29/2021  \n",
              "5          No         0      NaN  NaN  12/29/2021  \n",
              "\n",
              "[5 rows x 31 columns]"
            ],
            "text/html": [
              "\n",
              "  <div id=\"df-51917150-4e08-4f88-a917-ab4a470f5ba2\">\n",
              "    <div class=\"colab-df-container\">\n",
              "      <div>\n",
              "<style scoped>\n",
              "    .dataframe tbody tr th:only-of-type {\n",
              "        vertical-align: middle;\n",
              "    }\n",
              "\n",
              "    .dataframe tbody tr th {\n",
              "        vertical-align: top;\n",
              "    }\n",
              "\n",
              "    .dataframe thead th {\n",
              "        text-align: right;\n",
              "    }\n",
              "</style>\n",
              "<table border=\"1\" class=\"dataframe\">\n",
              "  <thead>\n",
              "    <tr style=\"text-align: right;\">\n",
              "      <th></th>\n",
              "      <th>기준년도</th>\n",
              "      <th>시도코드</th>\n",
              "      <th>성별코드</th>\n",
              "      <th>연령대코드(5세단위)</th>\n",
              "      <th>연령대</th>\n",
              "      <th>신장(5Cm단위)</th>\n",
              "      <th>체중(5Kg 단위)</th>\n",
              "      <th>허리둘레</th>\n",
              "      <th>시력(좌)</th>\n",
              "      <th>시력(우)</th>\n",
              "      <th>...</th>\n",
              "      <th>혈청크레아티닌</th>\n",
              "      <th>(혈청지오티)AST</th>\n",
              "      <th>(혈청지오티)ALT</th>\n",
              "      <th>감마지티피</th>\n",
              "      <th>흡연상태</th>\n",
              "      <th>음주여부</th>\n",
              "      <th>구강검진수검여부</th>\n",
              "      <th>치아우식증유무</th>\n",
              "      <th>치석</th>\n",
              "      <th>데이터공개일자</th>\n",
              "    </tr>\n",
              "    <tr>\n",
              "      <th>가입자일련번호</th>\n",
              "      <th></th>\n",
              "      <th></th>\n",
              "      <th></th>\n",
              "      <th></th>\n",
              "      <th></th>\n",
              "      <th></th>\n",
              "      <th></th>\n",
              "      <th></th>\n",
              "      <th></th>\n",
              "      <th></th>\n",
              "      <th></th>\n",
              "      <th></th>\n",
              "      <th></th>\n",
              "      <th></th>\n",
              "      <th></th>\n",
              "      <th></th>\n",
              "      <th></th>\n",
              "      <th></th>\n",
              "      <th></th>\n",
              "      <th></th>\n",
              "      <th></th>\n",
              "    </tr>\n",
              "  </thead>\n",
              "  <tbody>\n",
              "    <tr>\n",
              "      <th>1</th>\n",
              "      <td>2020</td>\n",
              "      <td>36</td>\n",
              "      <td>M</td>\n",
              "      <td>9</td>\n",
              "      <td>40대</td>\n",
              "      <td>165</td>\n",
              "      <td>60</td>\n",
              "      <td>72.1</td>\n",
              "      <td>1.2</td>\n",
              "      <td>1.5</td>\n",
              "      <td>...</td>\n",
              "      <td>1.1</td>\n",
              "      <td>21.0</td>\n",
              "      <td>27.0</td>\n",
              "      <td>21.0</td>\n",
              "      <td>No</td>\n",
              "      <td>No</td>\n",
              "      <td>0</td>\n",
              "      <td>NaN</td>\n",
              "      <td>NaN</td>\n",
              "      <td>12/29/2021</td>\n",
              "    </tr>\n",
              "    <tr>\n",
              "      <th>2</th>\n",
              "      <td>2020</td>\n",
              "      <td>27</td>\n",
              "      <td>F</td>\n",
              "      <td>13</td>\n",
              "      <td>60대</td>\n",
              "      <td>150</td>\n",
              "      <td>65</td>\n",
              "      <td>81.0</td>\n",
              "      <td>0.8</td>\n",
              "      <td>0.8</td>\n",
              "      <td>...</td>\n",
              "      <td>0.5</td>\n",
              "      <td>18.0</td>\n",
              "      <td>15.0</td>\n",
              "      <td>15.0</td>\n",
              "      <td>No</td>\n",
              "      <td>No</td>\n",
              "      <td>0</td>\n",
              "      <td>NaN</td>\n",
              "      <td>NaN</td>\n",
              "      <td>12/29/2021</td>\n",
              "    </tr>\n",
              "    <tr>\n",
              "      <th>3</th>\n",
              "      <td>2020</td>\n",
              "      <td>11</td>\n",
              "      <td>F</td>\n",
              "      <td>12</td>\n",
              "      <td>50대</td>\n",
              "      <td>155</td>\n",
              "      <td>55</td>\n",
              "      <td>70.0</td>\n",
              "      <td>0.6</td>\n",
              "      <td>0.7</td>\n",
              "      <td>...</td>\n",
              "      <td>0.7</td>\n",
              "      <td>27.0</td>\n",
              "      <td>25.0</td>\n",
              "      <td>7.0</td>\n",
              "      <td>No</td>\n",
              "      <td>No</td>\n",
              "      <td>0</td>\n",
              "      <td>NaN</td>\n",
              "      <td>NaN</td>\n",
              "      <td>12/29/2021</td>\n",
              "    </tr>\n",
              "    <tr>\n",
              "      <th>4</th>\n",
              "      <td>2020</td>\n",
              "      <td>31</td>\n",
              "      <td>M</td>\n",
              "      <td>13</td>\n",
              "      <td>60대</td>\n",
              "      <td>160</td>\n",
              "      <td>70</td>\n",
              "      <td>90.8</td>\n",
              "      <td>1.0</td>\n",
              "      <td>1.0</td>\n",
              "      <td>...</td>\n",
              "      <td>1.2</td>\n",
              "      <td>65.0</td>\n",
              "      <td>97.0</td>\n",
              "      <td>72.0</td>\n",
              "      <td>No</td>\n",
              "      <td>No</td>\n",
              "      <td>1</td>\n",
              "      <td>0.0</td>\n",
              "      <td>0.0</td>\n",
              "      <td>12/29/2021</td>\n",
              "    </tr>\n",
              "    <tr>\n",
              "      <th>5</th>\n",
              "      <td>2020</td>\n",
              "      <td>41</td>\n",
              "      <td>F</td>\n",
              "      <td>12</td>\n",
              "      <td>50대</td>\n",
              "      <td>155</td>\n",
              "      <td>50</td>\n",
              "      <td>75.2</td>\n",
              "      <td>1.5</td>\n",
              "      <td>1.2</td>\n",
              "      <td>...</td>\n",
              "      <td>0.7</td>\n",
              "      <td>18.0</td>\n",
              "      <td>17.0</td>\n",
              "      <td>14.0</td>\n",
              "      <td>No</td>\n",
              "      <td>No</td>\n",
              "      <td>0</td>\n",
              "      <td>NaN</td>\n",
              "      <td>NaN</td>\n",
              "      <td>12/29/2021</td>\n",
              "    </tr>\n",
              "  </tbody>\n",
              "</table>\n",
              "<p>5 rows × 31 columns</p>\n",
              "</div>\n",
              "      <button class=\"colab-df-convert\" onclick=\"convertToInteractive('df-51917150-4e08-4f88-a917-ab4a470f5ba2')\"\n",
              "              title=\"Convert this dataframe to an interactive table.\"\n",
              "              style=\"display:none;\">\n",
              "        \n",
              "  <svg xmlns=\"http://www.w3.org/2000/svg\" height=\"24px\"viewBox=\"0 0 24 24\"\n",
              "       width=\"24px\">\n",
              "    <path d=\"M0 0h24v24H0V0z\" fill=\"none\"/>\n",
              "    <path d=\"M18.56 5.44l.94 2.06.94-2.06 2.06-.94-2.06-.94-.94-2.06-.94 2.06-2.06.94zm-11 1L8.5 8.5l.94-2.06 2.06-.94-2.06-.94L8.5 2.5l-.94 2.06-2.06.94zm10 10l.94 2.06.94-2.06 2.06-.94-2.06-.94-.94-2.06-.94 2.06-2.06.94z\"/><path d=\"M17.41 7.96l-1.37-1.37c-.4-.4-.92-.59-1.43-.59-.52 0-1.04.2-1.43.59L10.3 9.45l-7.72 7.72c-.78.78-.78 2.05 0 2.83L4 21.41c.39.39.9.59 1.41.59.51 0 1.02-.2 1.41-.59l7.78-7.78 2.81-2.81c.8-.78.8-2.07 0-2.86zM5.41 20L4 18.59l7.72-7.72 1.47 1.35L5.41 20z\"/>\n",
              "  </svg>\n",
              "      </button>\n",
              "      \n",
              "  <style>\n",
              "    .colab-df-container {\n",
              "      display:flex;\n",
              "      flex-wrap:wrap;\n",
              "      gap: 12px;\n",
              "    }\n",
              "\n",
              "    .colab-df-convert {\n",
              "      background-color: #E8F0FE;\n",
              "      border: none;\n",
              "      border-radius: 50%;\n",
              "      cursor: pointer;\n",
              "      display: none;\n",
              "      fill: #1967D2;\n",
              "      height: 32px;\n",
              "      padding: 0 0 0 0;\n",
              "      width: 32px;\n",
              "    }\n",
              "\n",
              "    .colab-df-convert:hover {\n",
              "      background-color: #E2EBFA;\n",
              "      box-shadow: 0px 1px 2px rgba(60, 64, 67, 0.3), 0px 1px 3px 1px rgba(60, 64, 67, 0.15);\n",
              "      fill: #174EA6;\n",
              "    }\n",
              "\n",
              "    [theme=dark] .colab-df-convert {\n",
              "      background-color: #3B4455;\n",
              "      fill: #D2E3FC;\n",
              "    }\n",
              "\n",
              "    [theme=dark] .colab-df-convert:hover {\n",
              "      background-color: #434B5C;\n",
              "      box-shadow: 0px 1px 3px 1px rgba(0, 0, 0, 0.15);\n",
              "      filter: drop-shadow(0px 1px 2px rgba(0, 0, 0, 0.3));\n",
              "      fill: #FFFFFF;\n",
              "    }\n",
              "  </style>\n",
              "\n",
              "      <script>\n",
              "        const buttonEl =\n",
              "          document.querySelector('#df-51917150-4e08-4f88-a917-ab4a470f5ba2 button.colab-df-convert');\n",
              "        buttonEl.style.display =\n",
              "          google.colab.kernel.accessAllowed ? 'block' : 'none';\n",
              "\n",
              "        async function convertToInteractive(key) {\n",
              "          const element = document.querySelector('#df-51917150-4e08-4f88-a917-ab4a470f5ba2');\n",
              "          const dataTable =\n",
              "            await google.colab.kernel.invokeFunction('convertToInteractive',\n",
              "                                                     [key], {});\n",
              "          if (!dataTable) return;\n",
              "\n",
              "          const docLinkHtml = 'Like what you see? Visit the ' +\n",
              "            '<a target=\"_blank\" href=https://colab.research.google.com/notebooks/data_table.ipynb>data table notebook</a>'\n",
              "            + ' to learn more about interactive tables.';\n",
              "          element.innerHTML = '';\n",
              "          dataTable['output_type'] = 'display_data';\n",
              "          await google.colab.output.renderOutput(dataTable, element);\n",
              "          const docLink = document.createElement('div');\n",
              "          docLink.innerHTML = docLinkHtml;\n",
              "          element.appendChild(docLink);\n",
              "        }\n",
              "      </script>\n",
              "    </div>\n",
              "  </div>\n",
              "  "
            ]
          },
          "metadata": {}
        }
      ]
    },
    {
      "cell_type": "code",
      "source": [
        "health.describe()"
      ],
      "metadata": {
        "id": "zPw7F2YRCeER",
        "colab": {
          "base_uri": "https://localhost:8080/",
          "height": 411
        },
        "outputId": "8dd5259f-f786-48d9-90b4-4eaf0446eef3"
      },
      "execution_count": null,
      "outputs": [
        {
          "output_type": "execute_result",
          "data": {
            "text/plain": [
              "          기준년도          시도코드   연령대코드(5세단위)     신장(5Cm단위)    체중(5Kg 단위)  \\\n",
              "count  10000.0  10000.000000  10000.000000  10000.000000  10000.000000   \n",
              "mean    2020.0     34.100100     11.931400    160.983500     63.034500   \n",
              "std        0.0     12.394581      2.166048      9.211608     12.205294   \n",
              "min     2020.0     11.000000      9.000000    130.000000     30.000000   \n",
              "25%     2020.0     27.000000     10.000000    155.000000     55.000000   \n",
              "50%     2020.0     41.000000     12.000000    160.000000     60.000000   \n",
              "75%     2020.0     44.000000     13.000000    170.000000     70.000000   \n",
              "max     2020.0     49.000000     18.000000    195.000000    130.000000   \n",
              "\n",
              "               허리둘레         시력(좌)         시력(우)         청력(좌)         청력(우)  \\\n",
              "count  10000.000000  10000.000000  10000.000000  10000.000000  10000.000000   \n",
              "mean      82.366100      0.933750      0.936750      1.050500      1.045200   \n",
              "std        9.561973      0.662057      0.641378      0.227936      0.218545   \n",
              "min       53.000000      0.100000      0.100000      1.000000      1.000000   \n",
              "25%       76.000000      0.700000      0.700000      1.000000      1.000000   \n",
              "50%       82.000000      0.900000      0.900000      1.000000      1.000000   \n",
              "75%       88.900000      1.200000      1.200000      1.000000      1.000000   \n",
              "max      134.000000      9.900000      9.900000      3.000000      3.000000   \n",
              "\n",
              "       ...     LDL콜레스테롤          혈색소          요단백      혈청크레아티닌  (혈청지오티)AST  \\\n",
              "count  ...  3977.000000  9912.000000  9861.000000  9912.000000  9912.00000   \n",
              "mean   ...   116.263264    14.214255     1.119461     0.848484    27.58979   \n",
              "std    ...    37.829955     1.555386     0.489782     0.301012    17.88442   \n",
              "min    ...    13.000000     5.100000     1.000000     0.050000     3.00000   \n",
              "25%    ...    89.000000    13.200000     1.000000     0.700000    20.00000   \n",
              "50%    ...   115.000000    14.200000     1.000000     0.800000    24.00000   \n",
              "75%    ...   141.000000    15.300000     1.000000     1.000000    30.00000   \n",
              "max    ...   297.000000    20.000000     6.000000     9.200000   692.00000   \n",
              "\n",
              "        (혈청지오티)ALT        감마지티피      구강검진수검여부      치아우식증유무           치석  \n",
              "count  9912.000000  9912.000000  10000.000000  3251.000000  3251.000000  \n",
              "mean     26.789851    38.098668      0.325100     0.175331     0.579514  \n",
              "std      23.735687    58.184579      0.468436     0.380308     0.591269  \n",
              "min       2.000000     3.000000      0.000000     0.000000     0.000000  \n",
              "25%      16.000000    16.000000      0.000000     0.000000     0.000000  \n",
              "50%      21.000000    24.000000      0.000000     0.000000     1.000000  \n",
              "75%      31.000000    39.000000      1.000000     0.000000     1.000000  \n",
              "max    1146.000000  2322.000000      1.000000     1.000000     2.000000  \n",
              "\n",
              "[8 rows x 26 columns]"
            ],
            "text/html": [
              "\n",
              "  <div id=\"df-5cfb9c82-971b-402a-9799-f698838bc351\">\n",
              "    <div class=\"colab-df-container\">\n",
              "      <div>\n",
              "<style scoped>\n",
              "    .dataframe tbody tr th:only-of-type {\n",
              "        vertical-align: middle;\n",
              "    }\n",
              "\n",
              "    .dataframe tbody tr th {\n",
              "        vertical-align: top;\n",
              "    }\n",
              "\n",
              "    .dataframe thead th {\n",
              "        text-align: right;\n",
              "    }\n",
              "</style>\n",
              "<table border=\"1\" class=\"dataframe\">\n",
              "  <thead>\n",
              "    <tr style=\"text-align: right;\">\n",
              "      <th></th>\n",
              "      <th>기준년도</th>\n",
              "      <th>시도코드</th>\n",
              "      <th>연령대코드(5세단위)</th>\n",
              "      <th>신장(5Cm단위)</th>\n",
              "      <th>체중(5Kg 단위)</th>\n",
              "      <th>허리둘레</th>\n",
              "      <th>시력(좌)</th>\n",
              "      <th>시력(우)</th>\n",
              "      <th>청력(좌)</th>\n",
              "      <th>청력(우)</th>\n",
              "      <th>...</th>\n",
              "      <th>LDL콜레스테롤</th>\n",
              "      <th>혈색소</th>\n",
              "      <th>요단백</th>\n",
              "      <th>혈청크레아티닌</th>\n",
              "      <th>(혈청지오티)AST</th>\n",
              "      <th>(혈청지오티)ALT</th>\n",
              "      <th>감마지티피</th>\n",
              "      <th>구강검진수검여부</th>\n",
              "      <th>치아우식증유무</th>\n",
              "      <th>치석</th>\n",
              "    </tr>\n",
              "  </thead>\n",
              "  <tbody>\n",
              "    <tr>\n",
              "      <th>count</th>\n",
              "      <td>10000.0</td>\n",
              "      <td>10000.000000</td>\n",
              "      <td>10000.000000</td>\n",
              "      <td>10000.000000</td>\n",
              "      <td>10000.000000</td>\n",
              "      <td>10000.000000</td>\n",
              "      <td>10000.000000</td>\n",
              "      <td>10000.000000</td>\n",
              "      <td>10000.000000</td>\n",
              "      <td>10000.000000</td>\n",
              "      <td>...</td>\n",
              "      <td>3977.000000</td>\n",
              "      <td>9912.000000</td>\n",
              "      <td>9861.000000</td>\n",
              "      <td>9912.000000</td>\n",
              "      <td>9912.00000</td>\n",
              "      <td>9912.000000</td>\n",
              "      <td>9912.000000</td>\n",
              "      <td>10000.000000</td>\n",
              "      <td>3251.000000</td>\n",
              "      <td>3251.000000</td>\n",
              "    </tr>\n",
              "    <tr>\n",
              "      <th>mean</th>\n",
              "      <td>2020.0</td>\n",
              "      <td>34.100100</td>\n",
              "      <td>11.931400</td>\n",
              "      <td>160.983500</td>\n",
              "      <td>63.034500</td>\n",
              "      <td>82.366100</td>\n",
              "      <td>0.933750</td>\n",
              "      <td>0.936750</td>\n",
              "      <td>1.050500</td>\n",
              "      <td>1.045200</td>\n",
              "      <td>...</td>\n",
              "      <td>116.263264</td>\n",
              "      <td>14.214255</td>\n",
              "      <td>1.119461</td>\n",
              "      <td>0.848484</td>\n",
              "      <td>27.58979</td>\n",
              "      <td>26.789851</td>\n",
              "      <td>38.098668</td>\n",
              "      <td>0.325100</td>\n",
              "      <td>0.175331</td>\n",
              "      <td>0.579514</td>\n",
              "    </tr>\n",
              "    <tr>\n",
              "      <th>std</th>\n",
              "      <td>0.0</td>\n",
              "      <td>12.394581</td>\n",
              "      <td>2.166048</td>\n",
              "      <td>9.211608</td>\n",
              "      <td>12.205294</td>\n",
              "      <td>9.561973</td>\n",
              "      <td>0.662057</td>\n",
              "      <td>0.641378</td>\n",
              "      <td>0.227936</td>\n",
              "      <td>0.218545</td>\n",
              "      <td>...</td>\n",
              "      <td>37.829955</td>\n",
              "      <td>1.555386</td>\n",
              "      <td>0.489782</td>\n",
              "      <td>0.301012</td>\n",
              "      <td>17.88442</td>\n",
              "      <td>23.735687</td>\n",
              "      <td>58.184579</td>\n",
              "      <td>0.468436</td>\n",
              "      <td>0.380308</td>\n",
              "      <td>0.591269</td>\n",
              "    </tr>\n",
              "    <tr>\n",
              "      <th>min</th>\n",
              "      <td>2020.0</td>\n",
              "      <td>11.000000</td>\n",
              "      <td>9.000000</td>\n",
              "      <td>130.000000</td>\n",
              "      <td>30.000000</td>\n",
              "      <td>53.000000</td>\n",
              "      <td>0.100000</td>\n",
              "      <td>0.100000</td>\n",
              "      <td>1.000000</td>\n",
              "      <td>1.000000</td>\n",
              "      <td>...</td>\n",
              "      <td>13.000000</td>\n",
              "      <td>5.100000</td>\n",
              "      <td>1.000000</td>\n",
              "      <td>0.050000</td>\n",
              "      <td>3.00000</td>\n",
              "      <td>2.000000</td>\n",
              "      <td>3.000000</td>\n",
              "      <td>0.000000</td>\n",
              "      <td>0.000000</td>\n",
              "      <td>0.000000</td>\n",
              "    </tr>\n",
              "    <tr>\n",
              "      <th>25%</th>\n",
              "      <td>2020.0</td>\n",
              "      <td>27.000000</td>\n",
              "      <td>10.000000</td>\n",
              "      <td>155.000000</td>\n",
              "      <td>55.000000</td>\n",
              "      <td>76.000000</td>\n",
              "      <td>0.700000</td>\n",
              "      <td>0.700000</td>\n",
              "      <td>1.000000</td>\n",
              "      <td>1.000000</td>\n",
              "      <td>...</td>\n",
              "      <td>89.000000</td>\n",
              "      <td>13.200000</td>\n",
              "      <td>1.000000</td>\n",
              "      <td>0.700000</td>\n",
              "      <td>20.00000</td>\n",
              "      <td>16.000000</td>\n",
              "      <td>16.000000</td>\n",
              "      <td>0.000000</td>\n",
              "      <td>0.000000</td>\n",
              "      <td>0.000000</td>\n",
              "    </tr>\n",
              "    <tr>\n",
              "      <th>50%</th>\n",
              "      <td>2020.0</td>\n",
              "      <td>41.000000</td>\n",
              "      <td>12.000000</td>\n",
              "      <td>160.000000</td>\n",
              "      <td>60.000000</td>\n",
              "      <td>82.000000</td>\n",
              "      <td>0.900000</td>\n",
              "      <td>0.900000</td>\n",
              "      <td>1.000000</td>\n",
              "      <td>1.000000</td>\n",
              "      <td>...</td>\n",
              "      <td>115.000000</td>\n",
              "      <td>14.200000</td>\n",
              "      <td>1.000000</td>\n",
              "      <td>0.800000</td>\n",
              "      <td>24.00000</td>\n",
              "      <td>21.000000</td>\n",
              "      <td>24.000000</td>\n",
              "      <td>0.000000</td>\n",
              "      <td>0.000000</td>\n",
              "      <td>1.000000</td>\n",
              "    </tr>\n",
              "    <tr>\n",
              "      <th>75%</th>\n",
              "      <td>2020.0</td>\n",
              "      <td>44.000000</td>\n",
              "      <td>13.000000</td>\n",
              "      <td>170.000000</td>\n",
              "      <td>70.000000</td>\n",
              "      <td>88.900000</td>\n",
              "      <td>1.200000</td>\n",
              "      <td>1.200000</td>\n",
              "      <td>1.000000</td>\n",
              "      <td>1.000000</td>\n",
              "      <td>...</td>\n",
              "      <td>141.000000</td>\n",
              "      <td>15.300000</td>\n",
              "      <td>1.000000</td>\n",
              "      <td>1.000000</td>\n",
              "      <td>30.00000</td>\n",
              "      <td>31.000000</td>\n",
              "      <td>39.000000</td>\n",
              "      <td>1.000000</td>\n",
              "      <td>0.000000</td>\n",
              "      <td>1.000000</td>\n",
              "    </tr>\n",
              "    <tr>\n",
              "      <th>max</th>\n",
              "      <td>2020.0</td>\n",
              "      <td>49.000000</td>\n",
              "      <td>18.000000</td>\n",
              "      <td>195.000000</td>\n",
              "      <td>130.000000</td>\n",
              "      <td>134.000000</td>\n",
              "      <td>9.900000</td>\n",
              "      <td>9.900000</td>\n",
              "      <td>3.000000</td>\n",
              "      <td>3.000000</td>\n",
              "      <td>...</td>\n",
              "      <td>297.000000</td>\n",
              "      <td>20.000000</td>\n",
              "      <td>6.000000</td>\n",
              "      <td>9.200000</td>\n",
              "      <td>692.00000</td>\n",
              "      <td>1146.000000</td>\n",
              "      <td>2322.000000</td>\n",
              "      <td>1.000000</td>\n",
              "      <td>1.000000</td>\n",
              "      <td>2.000000</td>\n",
              "    </tr>\n",
              "  </tbody>\n",
              "</table>\n",
              "<p>8 rows × 26 columns</p>\n",
              "</div>\n",
              "      <button class=\"colab-df-convert\" onclick=\"convertToInteractive('df-5cfb9c82-971b-402a-9799-f698838bc351')\"\n",
              "              title=\"Convert this dataframe to an interactive table.\"\n",
              "              style=\"display:none;\">\n",
              "        \n",
              "  <svg xmlns=\"http://www.w3.org/2000/svg\" height=\"24px\"viewBox=\"0 0 24 24\"\n",
              "       width=\"24px\">\n",
              "    <path d=\"M0 0h24v24H0V0z\" fill=\"none\"/>\n",
              "    <path d=\"M18.56 5.44l.94 2.06.94-2.06 2.06-.94-2.06-.94-.94-2.06-.94 2.06-2.06.94zm-11 1L8.5 8.5l.94-2.06 2.06-.94-2.06-.94L8.5 2.5l-.94 2.06-2.06.94zm10 10l.94 2.06.94-2.06 2.06-.94-2.06-.94-.94-2.06-.94 2.06-2.06.94z\"/><path d=\"M17.41 7.96l-1.37-1.37c-.4-.4-.92-.59-1.43-.59-.52 0-1.04.2-1.43.59L10.3 9.45l-7.72 7.72c-.78.78-.78 2.05 0 2.83L4 21.41c.39.39.9.59 1.41.59.51 0 1.02-.2 1.41-.59l7.78-7.78 2.81-2.81c.8-.78.8-2.07 0-2.86zM5.41 20L4 18.59l7.72-7.72 1.47 1.35L5.41 20z\"/>\n",
              "  </svg>\n",
              "      </button>\n",
              "      \n",
              "  <style>\n",
              "    .colab-df-container {\n",
              "      display:flex;\n",
              "      flex-wrap:wrap;\n",
              "      gap: 12px;\n",
              "    }\n",
              "\n",
              "    .colab-df-convert {\n",
              "      background-color: #E8F0FE;\n",
              "      border: none;\n",
              "      border-radius: 50%;\n",
              "      cursor: pointer;\n",
              "      display: none;\n",
              "      fill: #1967D2;\n",
              "      height: 32px;\n",
              "      padding: 0 0 0 0;\n",
              "      width: 32px;\n",
              "    }\n",
              "\n",
              "    .colab-df-convert:hover {\n",
              "      background-color: #E2EBFA;\n",
              "      box-shadow: 0px 1px 2px rgba(60, 64, 67, 0.3), 0px 1px 3px 1px rgba(60, 64, 67, 0.15);\n",
              "      fill: #174EA6;\n",
              "    }\n",
              "\n",
              "    [theme=dark] .colab-df-convert {\n",
              "      background-color: #3B4455;\n",
              "      fill: #D2E3FC;\n",
              "    }\n",
              "\n",
              "    [theme=dark] .colab-df-convert:hover {\n",
              "      background-color: #434B5C;\n",
              "      box-shadow: 0px 1px 3px 1px rgba(0, 0, 0, 0.15);\n",
              "      filter: drop-shadow(0px 1px 2px rgba(0, 0, 0, 0.3));\n",
              "      fill: #FFFFFF;\n",
              "    }\n",
              "  </style>\n",
              "\n",
              "      <script>\n",
              "        const buttonEl =\n",
              "          document.querySelector('#df-5cfb9c82-971b-402a-9799-f698838bc351 button.colab-df-convert');\n",
              "        buttonEl.style.display =\n",
              "          google.colab.kernel.accessAllowed ? 'block' : 'none';\n",
              "\n",
              "        async function convertToInteractive(key) {\n",
              "          const element = document.querySelector('#df-5cfb9c82-971b-402a-9799-f698838bc351');\n",
              "          const dataTable =\n",
              "            await google.colab.kernel.invokeFunction('convertToInteractive',\n",
              "                                                     [key], {});\n",
              "          if (!dataTable) return;\n",
              "\n",
              "          const docLinkHtml = 'Like what you see? Visit the ' +\n",
              "            '<a target=\"_blank\" href=https://colab.research.google.com/notebooks/data_table.ipynb>data table notebook</a>'\n",
              "            + ' to learn more about interactive tables.';\n",
              "          element.innerHTML = '';\n",
              "          dataTable['output_type'] = 'display_data';\n",
              "          await google.colab.output.renderOutput(dataTable, element);\n",
              "          const docLink = document.createElement('div');\n",
              "          docLink.innerHTML = docLinkHtml;\n",
              "          element.appendChild(docLink);\n",
              "        }\n",
              "      </script>\n",
              "    </div>\n",
              "  </div>\n",
              "  "
            ]
          },
          "metadata": {},
          "execution_count": 7
        }
      ]
    },
    {
      "cell_type": "markdown",
      "source": [
        "###**Step 2. 분류 문제: 감마지티피*(y-gtp)* 정상 여부**\n",
        "\n"
      ],
      "metadata": {
        "id": "x22zmQmFCmH_"
      }
    },
    {
      "cell_type": "markdown",
      "source": [
        "***감마지티피 수치가 정상인지 비정상인지를 분류해주는 의사결정나무 모델 만들기***\n",
        "\n",
        "감마지티피(γ-GTP)는 주로 간에 분포하는 효소로 알코올에 민감하게 반응하며 간이나 담도에 질환이 있을 때 비교적 빠르게 이상치를 보이는 특성이 있어 간 질환 검사에 사용된다\n",
        "\n",
        "- id: 가입자일련번호\n",
        "- y-gtp : 감마지티피 수치 (타겟 변수)\n",
        "  - A (abnormal) : 비정상\n",
        "  - N (normal) : 정상\n",
        "\n",
        "\n"
      ],
      "metadata": {
        "id": "YyCU9DIuErpH"
      }
    },
    {
      "cell_type": "markdown",
      "source": [
        "***종속변수와 독립변수 설정***\n",
        "- 종속변수: y-gtp / *columns[31]*\n",
        "\n",
        "- 독립변수: 수축기혈압,이완기혈압,식전혈당,총콜레스테롤,트리글리세라이드,HDL콜레스테롤,LDL콜레스테롤,혈색소,요단백,혈청크레아티닌,(혈청지오티)AST,(혈청지오티)ALT / *columns[12:23]*"
      ],
      "metadata": {
        "id": "sXWUOt6Od2sR"
      }
    },
    {
      "cell_type": "markdown",
      "source": [
        "***감마지티피 수치 판단***\n",
        "\n",
        "\n",
        "- 남성의 경우 감마지티피 값이 65이상이면 비정상\n",
        "- 여성의 경우 감마지티피 값이 35이상이면 비정상"
      ],
      "metadata": {
        "id": "8o1m8YGJdyaz"
      }
    },
    {
      "cell_type": "markdown",
      "source": [
        "### **Step 3. 데이터전처리**"
      ],
      "metadata": {
        "id": "CCf14m02cM-G"
      }
    },
    {
      "cell_type": "markdown",
      "source": [
        "***1) 결측치 제거***"
      ],
      "metadata": {
        "id": "-84DuGaEF9ih"
      }
    },
    {
      "cell_type": "code",
      "source": [
        "#결측치가 포함된 행 제거\n",
        "health_new = health.copy()\n",
        "health_new = health_new.dropna(axis=0)\n",
        "print(health_new)"
      ],
      "metadata": {
        "id": "4pMgxz4EGKZe",
        "colab": {
          "base_uri": "https://localhost:8080/"
        },
        "outputId": "c2fffbb0-6fb4-4828-c989-2d1d08d459ae"
      },
      "execution_count": null,
      "outputs": [
        {
          "output_type": "stream",
          "name": "stdout",
          "text": [
            "         기준년도  시도코드 성별코드  연령대코드(5세단위)     연령대  신장(5Cm단위)  체중(5Kg 단위)   허리둘레  \\\n",
            "가입자일련번호                                                                       \n",
            "7        2020    44    M            9     40대        165          80   93.0   \n",
            "17       2020    30    M           11     50대        160          65   90.0   \n",
            "22       2020    41    F           11     50대        155          50   65.9   \n",
            "28       2020    11    M           17  80대 이상        155          60   82.0   \n",
            "48       2020    26    M           16     70대        165          65   94.0   \n",
            "...       ...   ...  ...          ...     ...        ...         ...    ...   \n",
            "9955     2020    30    M            9     40대        180          70   87.5   \n",
            "9964     2020    41    F           13     60대        160          75  107.4   \n",
            "9966     2020    45    F           12     50대        155          60   80.0   \n",
            "9968     2020    11    M           12     50대        170          80   90.0   \n",
            "9975     2020    41    M           11     50대        175          95  104.0   \n",
            "\n",
            "         시력(좌)  시력(우)  ...  혈청크레아티닌  (혈청지오티)AST  (혈청지오티)ALT  감마지티피    흡연상태  \\\n",
            "가입자일련번호                ...                                                   \n",
            "7          0.8    0.7  ...      0.7        18.0        20.0   35.0     Yes   \n",
            "17         0.6    0.6  ...      1.0        29.0        54.0   24.0      No   \n",
            "22         0.7    1.0  ...      0.8        24.0        14.0   12.0      No   \n",
            "28         0.5    0.7  ...      1.4        33.0        22.0   29.0      No   \n",
            "48         1.5    0.6  ...      1.0        28.0        20.0   43.0      No   \n",
            "...        ...    ...  ...      ...         ...         ...    ...     ...   \n",
            "9955       1.2    0.9  ...      0.9        22.0        21.0   19.0      No   \n",
            "9964       0.8    0.8  ...      0.8        20.0        15.0   14.0      No   \n",
            "9966       1.5    1.0  ...      0.6        22.0         9.0   29.0      No   \n",
            "9968       0.9    0.9  ...      0.7        27.0        36.0   66.0  NotNow   \n",
            "9975       0.9    0.9  ...      0.9        26.0        27.0   68.0  NotNow   \n",
            "\n",
            "         음주여부  구강검진수검여부  치아우식증유무   치석     데이터공개일자  \n",
            "가입자일련번호                                            \n",
            "7         Yes         1      0.0  1.0  12/29/2021  \n",
            "17        Yes         1      0.0  1.0  12/29/2021  \n",
            "22         No         1      0.0  0.0  12/29/2021  \n",
            "28        Yes         1      0.0  0.0  12/29/2021  \n",
            "48        Yes         1      0.0  0.0  12/29/2021  \n",
            "...       ...       ...      ...  ...         ...  \n",
            "9955      Yes         1      0.0  1.0  12/29/2021  \n",
            "9964      Yes         1      1.0  1.0  12/29/2021  \n",
            "9966       No         1      0.0  0.0  12/29/2021  \n",
            "9968      Yes         1      0.0  2.0  12/29/2021  \n",
            "9975      Yes         1      0.0  0.0  12/29/2021  \n",
            "\n",
            "[1249 rows x 31 columns]\n"
          ]
        }
      ]
    },
    {
      "cell_type": "markdown",
      "source": [
        "***2) '감마지티피' 수치에 따른 정상/비정상 여부를 판단한 새로운 변수 'y-gtp'만들기***"
      ],
      "metadata": {
        "id": "M584EII3F2do"
      }
    },
    {
      "cell_type": "code",
      "source": [
        "#새로운 행 추가\n",
        "health_new[\"y-gtp\"]=np.NaN\n",
        "\n",
        "#조건에 맞는 값을 칼럼에 추가\n",
        "health_new.loc[(health_new['감마지티피']>=65)&(health_new['성별코드']=='M'),'y-gtp']='A'\n",
        "health_new.loc[(health_new['감마지티피']>=35)&(health_new['성별코드']=='F'),'y-gtp']='A'\n",
        "\n",
        "#결측치를 다른 값으로 채우기\n",
        "health_new['y-gtp']=health_new['y-gtp'].fillna(\"N\")\n",
        "\n",
        "display(health_new)"
      ],
      "metadata": {
        "id": "HJhTiKCv8qkX",
        "colab": {
          "base_uri": "https://localhost:8080/",
          "height": 551
        },
        "outputId": "31efbe63-af10-4e6e-ad5b-67d78b3ef5ac"
      },
      "execution_count": null,
      "outputs": [
        {
          "output_type": "display_data",
          "data": {
            "text/plain": [
              "         기준년도  시도코드 성별코드  연령대코드(5세단위)     연령대  신장(5Cm단위)  체중(5Kg 단위)   허리둘레  \\\n",
              "가입자일련번호                                                                       \n",
              "7        2020    44    M            9     40대        165          80   93.0   \n",
              "17       2020    30    M           11     50대        160          65   90.0   \n",
              "22       2020    41    F           11     50대        155          50   65.9   \n",
              "28       2020    11    M           17  80대 이상        155          60   82.0   \n",
              "48       2020    26    M           16     70대        165          65   94.0   \n",
              "...       ...   ...  ...          ...     ...        ...         ...    ...   \n",
              "9955     2020    30    M            9     40대        180          70   87.5   \n",
              "9964     2020    41    F           13     60대        160          75  107.4   \n",
              "9966     2020    45    F           12     50대        155          60   80.0   \n",
              "9968     2020    11    M           12     50대        170          80   90.0   \n",
              "9975     2020    41    M           11     50대        175          95  104.0   \n",
              "\n",
              "         시력(좌)  시력(우)  ...  (혈청지오티)AST  (혈청지오티)ALT  감마지티피    흡연상태  음주여부  \\\n",
              "가입자일련번호                ...                                                \n",
              "7          0.8    0.7  ...        18.0        20.0   35.0     Yes   Yes   \n",
              "17         0.6    0.6  ...        29.0        54.0   24.0      No   Yes   \n",
              "22         0.7    1.0  ...        24.0        14.0   12.0      No    No   \n",
              "28         0.5    0.7  ...        33.0        22.0   29.0      No   Yes   \n",
              "48         1.5    0.6  ...        28.0        20.0   43.0      No   Yes   \n",
              "...        ...    ...  ...         ...         ...    ...     ...   ...   \n",
              "9955       1.2    0.9  ...        22.0        21.0   19.0      No   Yes   \n",
              "9964       0.8    0.8  ...        20.0        15.0   14.0      No   Yes   \n",
              "9966       1.5    1.0  ...        22.0         9.0   29.0      No    No   \n",
              "9968       0.9    0.9  ...        27.0        36.0   66.0  NotNow   Yes   \n",
              "9975       0.9    0.9  ...        26.0        27.0   68.0  NotNow   Yes   \n",
              "\n",
              "         구강검진수검여부  치아우식증유무   치석     데이터공개일자  y-gtp  \n",
              "가입자일련번호                                             \n",
              "7               1      0.0  1.0  12/29/2021      N  \n",
              "17              1      0.0  1.0  12/29/2021      N  \n",
              "22              1      0.0  0.0  12/29/2021      N  \n",
              "28              1      0.0  0.0  12/29/2021      N  \n",
              "48              1      0.0  0.0  12/29/2021      N  \n",
              "...           ...      ...  ...         ...    ...  \n",
              "9955            1      0.0  1.0  12/29/2021      N  \n",
              "9964            1      1.0  1.0  12/29/2021      N  \n",
              "9966            1      0.0  0.0  12/29/2021      N  \n",
              "9968            1      0.0  2.0  12/29/2021      A  \n",
              "9975            1      0.0  0.0  12/29/2021      A  \n",
              "\n",
              "[1249 rows x 32 columns]"
            ],
            "text/html": [
              "\n",
              "  <div id=\"df-f8c77326-43c2-48eb-8c99-c374032a91da\">\n",
              "    <div class=\"colab-df-container\">\n",
              "      <div>\n",
              "<style scoped>\n",
              "    .dataframe tbody tr th:only-of-type {\n",
              "        vertical-align: middle;\n",
              "    }\n",
              "\n",
              "    .dataframe tbody tr th {\n",
              "        vertical-align: top;\n",
              "    }\n",
              "\n",
              "    .dataframe thead th {\n",
              "        text-align: right;\n",
              "    }\n",
              "</style>\n",
              "<table border=\"1\" class=\"dataframe\">\n",
              "  <thead>\n",
              "    <tr style=\"text-align: right;\">\n",
              "      <th></th>\n",
              "      <th>기준년도</th>\n",
              "      <th>시도코드</th>\n",
              "      <th>성별코드</th>\n",
              "      <th>연령대코드(5세단위)</th>\n",
              "      <th>연령대</th>\n",
              "      <th>신장(5Cm단위)</th>\n",
              "      <th>체중(5Kg 단위)</th>\n",
              "      <th>허리둘레</th>\n",
              "      <th>시력(좌)</th>\n",
              "      <th>시력(우)</th>\n",
              "      <th>...</th>\n",
              "      <th>(혈청지오티)AST</th>\n",
              "      <th>(혈청지오티)ALT</th>\n",
              "      <th>감마지티피</th>\n",
              "      <th>흡연상태</th>\n",
              "      <th>음주여부</th>\n",
              "      <th>구강검진수검여부</th>\n",
              "      <th>치아우식증유무</th>\n",
              "      <th>치석</th>\n",
              "      <th>데이터공개일자</th>\n",
              "      <th>y-gtp</th>\n",
              "    </tr>\n",
              "    <tr>\n",
              "      <th>가입자일련번호</th>\n",
              "      <th></th>\n",
              "      <th></th>\n",
              "      <th></th>\n",
              "      <th></th>\n",
              "      <th></th>\n",
              "      <th></th>\n",
              "      <th></th>\n",
              "      <th></th>\n",
              "      <th></th>\n",
              "      <th></th>\n",
              "      <th></th>\n",
              "      <th></th>\n",
              "      <th></th>\n",
              "      <th></th>\n",
              "      <th></th>\n",
              "      <th></th>\n",
              "      <th></th>\n",
              "      <th></th>\n",
              "      <th></th>\n",
              "      <th></th>\n",
              "      <th></th>\n",
              "    </tr>\n",
              "  </thead>\n",
              "  <tbody>\n",
              "    <tr>\n",
              "      <th>7</th>\n",
              "      <td>2020</td>\n",
              "      <td>44</td>\n",
              "      <td>M</td>\n",
              "      <td>9</td>\n",
              "      <td>40대</td>\n",
              "      <td>165</td>\n",
              "      <td>80</td>\n",
              "      <td>93.0</td>\n",
              "      <td>0.8</td>\n",
              "      <td>0.7</td>\n",
              "      <td>...</td>\n",
              "      <td>18.0</td>\n",
              "      <td>20.0</td>\n",
              "      <td>35.0</td>\n",
              "      <td>Yes</td>\n",
              "      <td>Yes</td>\n",
              "      <td>1</td>\n",
              "      <td>0.0</td>\n",
              "      <td>1.0</td>\n",
              "      <td>12/29/2021</td>\n",
              "      <td>N</td>\n",
              "    </tr>\n",
              "    <tr>\n",
              "      <th>17</th>\n",
              "      <td>2020</td>\n",
              "      <td>30</td>\n",
              "      <td>M</td>\n",
              "      <td>11</td>\n",
              "      <td>50대</td>\n",
              "      <td>160</td>\n",
              "      <td>65</td>\n",
              "      <td>90.0</td>\n",
              "      <td>0.6</td>\n",
              "      <td>0.6</td>\n",
              "      <td>...</td>\n",
              "      <td>29.0</td>\n",
              "      <td>54.0</td>\n",
              "      <td>24.0</td>\n",
              "      <td>No</td>\n",
              "      <td>Yes</td>\n",
              "      <td>1</td>\n",
              "      <td>0.0</td>\n",
              "      <td>1.0</td>\n",
              "      <td>12/29/2021</td>\n",
              "      <td>N</td>\n",
              "    </tr>\n",
              "    <tr>\n",
              "      <th>22</th>\n",
              "      <td>2020</td>\n",
              "      <td>41</td>\n",
              "      <td>F</td>\n",
              "      <td>11</td>\n",
              "      <td>50대</td>\n",
              "      <td>155</td>\n",
              "      <td>50</td>\n",
              "      <td>65.9</td>\n",
              "      <td>0.7</td>\n",
              "      <td>1.0</td>\n",
              "      <td>...</td>\n",
              "      <td>24.0</td>\n",
              "      <td>14.0</td>\n",
              "      <td>12.0</td>\n",
              "      <td>No</td>\n",
              "      <td>No</td>\n",
              "      <td>1</td>\n",
              "      <td>0.0</td>\n",
              "      <td>0.0</td>\n",
              "      <td>12/29/2021</td>\n",
              "      <td>N</td>\n",
              "    </tr>\n",
              "    <tr>\n",
              "      <th>28</th>\n",
              "      <td>2020</td>\n",
              "      <td>11</td>\n",
              "      <td>M</td>\n",
              "      <td>17</td>\n",
              "      <td>80대 이상</td>\n",
              "      <td>155</td>\n",
              "      <td>60</td>\n",
              "      <td>82.0</td>\n",
              "      <td>0.5</td>\n",
              "      <td>0.7</td>\n",
              "      <td>...</td>\n",
              "      <td>33.0</td>\n",
              "      <td>22.0</td>\n",
              "      <td>29.0</td>\n",
              "      <td>No</td>\n",
              "      <td>Yes</td>\n",
              "      <td>1</td>\n",
              "      <td>0.0</td>\n",
              "      <td>0.0</td>\n",
              "      <td>12/29/2021</td>\n",
              "      <td>N</td>\n",
              "    </tr>\n",
              "    <tr>\n",
              "      <th>48</th>\n",
              "      <td>2020</td>\n",
              "      <td>26</td>\n",
              "      <td>M</td>\n",
              "      <td>16</td>\n",
              "      <td>70대</td>\n",
              "      <td>165</td>\n",
              "      <td>65</td>\n",
              "      <td>94.0</td>\n",
              "      <td>1.5</td>\n",
              "      <td>0.6</td>\n",
              "      <td>...</td>\n",
              "      <td>28.0</td>\n",
              "      <td>20.0</td>\n",
              "      <td>43.0</td>\n",
              "      <td>No</td>\n",
              "      <td>Yes</td>\n",
              "      <td>1</td>\n",
              "      <td>0.0</td>\n",
              "      <td>0.0</td>\n",
              "      <td>12/29/2021</td>\n",
              "      <td>N</td>\n",
              "    </tr>\n",
              "    <tr>\n",
              "      <th>...</th>\n",
              "      <td>...</td>\n",
              "      <td>...</td>\n",
              "      <td>...</td>\n",
              "      <td>...</td>\n",
              "      <td>...</td>\n",
              "      <td>...</td>\n",
              "      <td>...</td>\n",
              "      <td>...</td>\n",
              "      <td>...</td>\n",
              "      <td>...</td>\n",
              "      <td>...</td>\n",
              "      <td>...</td>\n",
              "      <td>...</td>\n",
              "      <td>...</td>\n",
              "      <td>...</td>\n",
              "      <td>...</td>\n",
              "      <td>...</td>\n",
              "      <td>...</td>\n",
              "      <td>...</td>\n",
              "      <td>...</td>\n",
              "      <td>...</td>\n",
              "    </tr>\n",
              "    <tr>\n",
              "      <th>9955</th>\n",
              "      <td>2020</td>\n",
              "      <td>30</td>\n",
              "      <td>M</td>\n",
              "      <td>9</td>\n",
              "      <td>40대</td>\n",
              "      <td>180</td>\n",
              "      <td>70</td>\n",
              "      <td>87.5</td>\n",
              "      <td>1.2</td>\n",
              "      <td>0.9</td>\n",
              "      <td>...</td>\n",
              "      <td>22.0</td>\n",
              "      <td>21.0</td>\n",
              "      <td>19.0</td>\n",
              "      <td>No</td>\n",
              "      <td>Yes</td>\n",
              "      <td>1</td>\n",
              "      <td>0.0</td>\n",
              "      <td>1.0</td>\n",
              "      <td>12/29/2021</td>\n",
              "      <td>N</td>\n",
              "    </tr>\n",
              "    <tr>\n",
              "      <th>9964</th>\n",
              "      <td>2020</td>\n",
              "      <td>41</td>\n",
              "      <td>F</td>\n",
              "      <td>13</td>\n",
              "      <td>60대</td>\n",
              "      <td>160</td>\n",
              "      <td>75</td>\n",
              "      <td>107.4</td>\n",
              "      <td>0.8</td>\n",
              "      <td>0.8</td>\n",
              "      <td>...</td>\n",
              "      <td>20.0</td>\n",
              "      <td>15.0</td>\n",
              "      <td>14.0</td>\n",
              "      <td>No</td>\n",
              "      <td>Yes</td>\n",
              "      <td>1</td>\n",
              "      <td>1.0</td>\n",
              "      <td>1.0</td>\n",
              "      <td>12/29/2021</td>\n",
              "      <td>N</td>\n",
              "    </tr>\n",
              "    <tr>\n",
              "      <th>9966</th>\n",
              "      <td>2020</td>\n",
              "      <td>45</td>\n",
              "      <td>F</td>\n",
              "      <td>12</td>\n",
              "      <td>50대</td>\n",
              "      <td>155</td>\n",
              "      <td>60</td>\n",
              "      <td>80.0</td>\n",
              "      <td>1.5</td>\n",
              "      <td>1.0</td>\n",
              "      <td>...</td>\n",
              "      <td>22.0</td>\n",
              "      <td>9.0</td>\n",
              "      <td>29.0</td>\n",
              "      <td>No</td>\n",
              "      <td>No</td>\n",
              "      <td>1</td>\n",
              "      <td>0.0</td>\n",
              "      <td>0.0</td>\n",
              "      <td>12/29/2021</td>\n",
              "      <td>N</td>\n",
              "    </tr>\n",
              "    <tr>\n",
              "      <th>9968</th>\n",
              "      <td>2020</td>\n",
              "      <td>11</td>\n",
              "      <td>M</td>\n",
              "      <td>12</td>\n",
              "      <td>50대</td>\n",
              "      <td>170</td>\n",
              "      <td>80</td>\n",
              "      <td>90.0</td>\n",
              "      <td>0.9</td>\n",
              "      <td>0.9</td>\n",
              "      <td>...</td>\n",
              "      <td>27.0</td>\n",
              "      <td>36.0</td>\n",
              "      <td>66.0</td>\n",
              "      <td>NotNow</td>\n",
              "      <td>Yes</td>\n",
              "      <td>1</td>\n",
              "      <td>0.0</td>\n",
              "      <td>2.0</td>\n",
              "      <td>12/29/2021</td>\n",
              "      <td>A</td>\n",
              "    </tr>\n",
              "    <tr>\n",
              "      <th>9975</th>\n",
              "      <td>2020</td>\n",
              "      <td>41</td>\n",
              "      <td>M</td>\n",
              "      <td>11</td>\n",
              "      <td>50대</td>\n",
              "      <td>175</td>\n",
              "      <td>95</td>\n",
              "      <td>104.0</td>\n",
              "      <td>0.9</td>\n",
              "      <td>0.9</td>\n",
              "      <td>...</td>\n",
              "      <td>26.0</td>\n",
              "      <td>27.0</td>\n",
              "      <td>68.0</td>\n",
              "      <td>NotNow</td>\n",
              "      <td>Yes</td>\n",
              "      <td>1</td>\n",
              "      <td>0.0</td>\n",
              "      <td>0.0</td>\n",
              "      <td>12/29/2021</td>\n",
              "      <td>A</td>\n",
              "    </tr>\n",
              "  </tbody>\n",
              "</table>\n",
              "<p>1249 rows × 32 columns</p>\n",
              "</div>\n",
              "      <button class=\"colab-df-convert\" onclick=\"convertToInteractive('df-f8c77326-43c2-48eb-8c99-c374032a91da')\"\n",
              "              title=\"Convert this dataframe to an interactive table.\"\n",
              "              style=\"display:none;\">\n",
              "        \n",
              "  <svg xmlns=\"http://www.w3.org/2000/svg\" height=\"24px\"viewBox=\"0 0 24 24\"\n",
              "       width=\"24px\">\n",
              "    <path d=\"M0 0h24v24H0V0z\" fill=\"none\"/>\n",
              "    <path d=\"M18.56 5.44l.94 2.06.94-2.06 2.06-.94-2.06-.94-.94-2.06-.94 2.06-2.06.94zm-11 1L8.5 8.5l.94-2.06 2.06-.94-2.06-.94L8.5 2.5l-.94 2.06-2.06.94zm10 10l.94 2.06.94-2.06 2.06-.94-2.06-.94-.94-2.06-.94 2.06-2.06.94z\"/><path d=\"M17.41 7.96l-1.37-1.37c-.4-.4-.92-.59-1.43-.59-.52 0-1.04.2-1.43.59L10.3 9.45l-7.72 7.72c-.78.78-.78 2.05 0 2.83L4 21.41c.39.39.9.59 1.41.59.51 0 1.02-.2 1.41-.59l7.78-7.78 2.81-2.81c.8-.78.8-2.07 0-2.86zM5.41 20L4 18.59l7.72-7.72 1.47 1.35L5.41 20z\"/>\n",
              "  </svg>\n",
              "      </button>\n",
              "      \n",
              "  <style>\n",
              "    .colab-df-container {\n",
              "      display:flex;\n",
              "      flex-wrap:wrap;\n",
              "      gap: 12px;\n",
              "    }\n",
              "\n",
              "    .colab-df-convert {\n",
              "      background-color: #E8F0FE;\n",
              "      border: none;\n",
              "      border-radius: 50%;\n",
              "      cursor: pointer;\n",
              "      display: none;\n",
              "      fill: #1967D2;\n",
              "      height: 32px;\n",
              "      padding: 0 0 0 0;\n",
              "      width: 32px;\n",
              "    }\n",
              "\n",
              "    .colab-df-convert:hover {\n",
              "      background-color: #E2EBFA;\n",
              "      box-shadow: 0px 1px 2px rgba(60, 64, 67, 0.3), 0px 1px 3px 1px rgba(60, 64, 67, 0.15);\n",
              "      fill: #174EA6;\n",
              "    }\n",
              "\n",
              "    [theme=dark] .colab-df-convert {\n",
              "      background-color: #3B4455;\n",
              "      fill: #D2E3FC;\n",
              "    }\n",
              "\n",
              "    [theme=dark] .colab-df-convert:hover {\n",
              "      background-color: #434B5C;\n",
              "      box-shadow: 0px 1px 3px 1px rgba(0, 0, 0, 0.15);\n",
              "      filter: drop-shadow(0px 1px 2px rgba(0, 0, 0, 0.3));\n",
              "      fill: #FFFFFF;\n",
              "    }\n",
              "  </style>\n",
              "\n",
              "      <script>\n",
              "        const buttonEl =\n",
              "          document.querySelector('#df-f8c77326-43c2-48eb-8c99-c374032a91da button.colab-df-convert');\n",
              "        buttonEl.style.display =\n",
              "          google.colab.kernel.accessAllowed ? 'block' : 'none';\n",
              "\n",
              "        async function convertToInteractive(key) {\n",
              "          const element = document.querySelector('#df-f8c77326-43c2-48eb-8c99-c374032a91da');\n",
              "          const dataTable =\n",
              "            await google.colab.kernel.invokeFunction('convertToInteractive',\n",
              "                                                     [key], {});\n",
              "          if (!dataTable) return;\n",
              "\n",
              "          const docLinkHtml = 'Like what you see? Visit the ' +\n",
              "            '<a target=\"_blank\" href=https://colab.research.google.com/notebooks/data_table.ipynb>data table notebook</a>'\n",
              "            + ' to learn more about interactive tables.';\n",
              "          element.innerHTML = '';\n",
              "          dataTable['output_type'] = 'display_data';\n",
              "          await google.colab.output.renderOutput(dataTable, element);\n",
              "          const docLink = document.createElement('div');\n",
              "          docLink.innerHTML = docLinkHtml;\n",
              "          element.appendChild(docLink);\n",
              "        }\n",
              "      </script>\n",
              "    </div>\n",
              "  </div>\n",
              "  "
            ]
          },
          "metadata": {}
        }
      ]
    },
    {
      "cell_type": "markdown",
      "source": [
        "### **Step 4-1. 분류 모델: 의사결정나무모델**"
      ],
      "metadata": {
        "id": "rmettW58G0ZB"
      }
    },
    {
      "cell_type": "markdown",
      "source": [
        "***1) 종속변수와 독립변수 지정하기***"
      ],
      "metadata": {
        "id": "Zxric0dhU8zf"
      }
    },
    {
      "cell_type": "code",
      "source": [
        "display(health_new.info())"
      ],
      "metadata": {
        "id": "yfrRtDkmMek6"
      },
      "execution_count": null,
      "outputs": []
    },
    {
      "cell_type": "code",
      "source": [
        "from sklearn.tree import DecisionTreeClassifier\n",
        "from sklearn.model_selection import train_test_split\n",
        "\n",
        "#종속변수와 독립변수 지정\n",
        "X = health_new.iloc[:, 12:24]\n",
        "y = health_new.iloc[:, 31] \n",
        "\n",
        "print(X)\n",
        "print(y)"
      ],
      "metadata": {
        "id": "yI7LKIZtDKnM"
      },
      "execution_count": null,
      "outputs": []
    },
    {
      "cell_type": "markdown",
      "source": [
        "***2) 의사결정나무 실행하기***"
      ],
      "metadata": {
        "id": "NF-zXpAGVBQ3"
      }
    },
    {
      "cell_type": "code",
      "source": [
        "#학습데이터와 시험데이터로 분할\n",
        "X_train, X_test, y_train, y_test = train_test_split(X, y, test_size = 0.25, random_state=42)"
      ],
      "metadata": {
        "id": "p6xkR8fAGhCD"
      },
      "execution_count": null,
      "outputs": []
    },
    {
      "cell_type": "code",
      "source": [
        "#의사결정나무 사용\n",
        "tree = DecisionTreeClassifier(max_depth=4,random_state=0)\n",
        "\n",
        "#의사결정나무에 변수입력 후 학습 시작\n",
        "tree.fit(X_train, y_train)\n",
        "\n",
        "print(\"학습용 데이터 정확도: {:.3f}\".format(tree.score(X_train, y_train)))\n",
        "print(\"시험용 데이터 정확도: {:.3f}\".format(tree.score(X_test, y_test)))"
      ],
      "metadata": {
        "colab": {
          "base_uri": "https://localhost:8080/"
        },
        "id": "h51ov0tSGnyH",
        "outputId": "8e261908-31e4-44fd-bdba-768e03efbca7"
      },
      "execution_count": null,
      "outputs": [
        {
          "output_type": "stream",
          "name": "stdout",
          "text": [
            "학습용 데이터 정확도: 0.909\n",
            "시험용 데이터 정확도: 0.850\n"
          ]
        }
      ]
    },
    {
      "cell_type": "markdown",
      "source": [
        "***3) 의사결정나무 시각화하기***"
      ],
      "metadata": {
        "id": "0vf4j_JPUxP8"
      }
    },
    {
      "cell_type": "code",
      "source": [
        "#의사결정나무 시각화\n",
        "from sklearn.tree import export_graphviz\n",
        "import graphviz\n",
        "\n",
        "#순서 확인\n",
        "print(health_new['y-gtp'].value_counts())\n",
        "\n",
        "export_graphviz(tree,out_file=\"tree.dot\",\n",
        "                class_names=[\"비정상\", \"정상\"], \n",
        "                feature_names=health_new.columns[12:24],\n",
        "                impurity=True,filled=True)\n",
        "\n",
        "#classnames는 알파벳 순서 (A,N 순)\n",
        "\n",
        "with open(\"tree.dot\") as f:\n",
        "    dot_graph = f.read()\n",
        "\n",
        "display(graphviz.Source(dot_graph))"
      ],
      "metadata": {
        "id": "7mVOpvwkNKvT",
        "colab": {
          "base_uri": "https://localhost:8080/",
          "height": 831
        },
        "outputId": "70555fcd-41a8-4582-d508-b55e551cd3e0"
      },
      "execution_count": null,
      "outputs": [
        {
          "output_type": "stream",
          "name": "stdout",
          "text": [
            "N    1070\n",
            "A     179\n",
            "Name: y-gtp, dtype: int64\n"
          ]
        },
        {
          "output_type": "display_data",
          "data": {
            "text/plain": [
              "<graphviz.files.Source at 0x7fdab1b59290>"
            ],
            "image/svg+xml": "<?xml version=\"1.0\" encoding=\"UTF-8\" standalone=\"no\"?>\n<!DOCTYPE svg PUBLIC \"-//W3C//DTD SVG 1.1//EN\"\n \"http://www.w3.org/Graphics/SVG/1.1/DTD/svg11.dtd\">\n<!-- Generated by graphviz version 2.40.1 (20161225.0304)\n -->\n<!-- Title: Tree Pages: 1 -->\n<svg width=\"1783pt\" height=\"552pt\"\n viewBox=\"0.00 0.00 1782.50 552.00\" xmlns=\"http://www.w3.org/2000/svg\" xmlns:xlink=\"http://www.w3.org/1999/xlink\">\n<g id=\"graph0\" class=\"graph\" transform=\"scale(1 1) rotate(0) translate(4 548)\">\n<title>Tree</title>\n<polygon fill=\"#ffffff\" stroke=\"transparent\" points=\"-4,4 -4,-548 1778.5,-548 1778.5,4 -4,4\"/>\n<!-- 0 -->\n<g id=\"node1\" class=\"node\">\n<title>0</title>\n<polygon fill=\"#5aade9\" stroke=\"#000000\" points=\"908,-544 736,-544 736,-461 908,-461 908,-544\"/>\n<text text-anchor=\"middle\" x=\"822\" y=\"-528.8\" font-family=\"Helvetica,sans-Serif\" font-size=\"14.00\" fill=\"#000000\">(혈청지오티)ALT &lt;= 35.5</text>\n<text text-anchor=\"middle\" x=\"822\" y=\"-513.8\" font-family=\"Helvetica,sans-Serif\" font-size=\"14.00\" fill=\"#000000\">gini = 0.245</text>\n<text text-anchor=\"middle\" x=\"822\" y=\"-498.8\" font-family=\"Helvetica,sans-Serif\" font-size=\"14.00\" fill=\"#000000\">samples = 936</text>\n<text text-anchor=\"middle\" x=\"822\" y=\"-483.8\" font-family=\"Helvetica,sans-Serif\" font-size=\"14.00\" fill=\"#000000\">value = [134, 802]</text>\n<text text-anchor=\"middle\" x=\"822\" y=\"-468.8\" font-family=\"Helvetica,sans-Serif\" font-size=\"14.00\" fill=\"#000000\">class = 정상</text>\n</g>\n<!-- 1 -->\n<g id=\"node2\" class=\"node\">\n<title>1</title>\n<polygon fill=\"#4aa5e7\" stroke=\"#000000\" points=\"683,-425 511,-425 511,-342 683,-342 683,-425\"/>\n<text text-anchor=\"middle\" x=\"597\" y=\"-409.8\" font-family=\"Helvetica,sans-Serif\" font-size=\"14.00\" fill=\"#000000\">(혈청지오티)ALT &lt;= 22.5</text>\n<text text-anchor=\"middle\" x=\"597\" y=\"-394.8\" font-family=\"Helvetica,sans-Serif\" font-size=\"14.00\" fill=\"#000000\">gini = 0.143</text>\n<text text-anchor=\"middle\" x=\"597\" y=\"-379.8\" font-family=\"Helvetica,sans-Serif\" font-size=\"14.00\" fill=\"#000000\">samples = 776</text>\n<text text-anchor=\"middle\" x=\"597\" y=\"-364.8\" font-family=\"Helvetica,sans-Serif\" font-size=\"14.00\" fill=\"#000000\">value = [60, 716]</text>\n<text text-anchor=\"middle\" x=\"597\" y=\"-349.8\" font-family=\"Helvetica,sans-Serif\" font-size=\"14.00\" fill=\"#000000\">class = 정상</text>\n</g>\n<!-- 0&#45;&gt;1 -->\n<g id=\"edge1\" class=\"edge\">\n<title>0&#45;&gt;1</title>\n<path fill=\"none\" stroke=\"#000000\" d=\"M743.3059,-460.8796C724.3798,-450.8697 704.0464,-440.1156 684.737,-429.9031\"/>\n<polygon fill=\"#000000\" stroke=\"#000000\" points=\"686.1258,-426.6783 675.6496,-425.0969 682.8531,-432.8662 686.1258,-426.6783\"/>\n<text text-anchor=\"middle\" x=\"683.0116\" y=\"-445.2884\" font-family=\"Helvetica,sans-Serif\" font-size=\"14.00\" fill=\"#000000\">True</text>\n</g>\n<!-- 14 -->\n<g id=\"node15\" class=\"node\">\n<title>14</title>\n<polygon fill=\"#e3f1fb\" stroke=\"#000000\" points=\"1139,-425 945,-425 945,-342 1139,-342 1139,-425\"/>\n<text text-anchor=\"middle\" x=\"1042\" y=\"-409.8\" font-family=\"Helvetica,sans-Serif\" font-size=\"14.00\" fill=\"#000000\">식전혈당(공복혈당) &lt;= 100.5</text>\n<text text-anchor=\"middle\" x=\"1042\" y=\"-394.8\" font-family=\"Helvetica,sans-Serif\" font-size=\"14.00\" fill=\"#000000\">gini = 0.497</text>\n<text text-anchor=\"middle\" x=\"1042\" y=\"-379.8\" font-family=\"Helvetica,sans-Serif\" font-size=\"14.00\" fill=\"#000000\">samples = 160</text>\n<text text-anchor=\"middle\" x=\"1042\" y=\"-364.8\" font-family=\"Helvetica,sans-Serif\" font-size=\"14.00\" fill=\"#000000\">value = [74, 86]</text>\n<text text-anchor=\"middle\" x=\"1042\" y=\"-349.8\" font-family=\"Helvetica,sans-Serif\" font-size=\"14.00\" fill=\"#000000\">class = 정상</text>\n</g>\n<!-- 0&#45;&gt;14 -->\n<g id=\"edge14\" class=\"edge\">\n<title>0&#45;&gt;14</title>\n<path fill=\"none\" stroke=\"#000000\" d=\"M898.9453,-460.8796C917.4509,-450.8697 937.3325,-440.1156 956.2127,-429.9031\"/>\n<polygon fill=\"#000000\" stroke=\"#000000\" points=\"957.9676,-432.9332 965.0981,-425.0969 954.6372,-426.7762 957.9676,-432.9332\"/>\n<text text-anchor=\"middle\" x=\"957.9598\" y=\"-445.3562\" font-family=\"Helvetica,sans-Serif\" font-size=\"14.00\" fill=\"#000000\">False</text>\n</g>\n<!-- 2 -->\n<g id=\"node3\" class=\"node\">\n<title>2</title>\n<polygon fill=\"#3fa0e6\" stroke=\"#000000\" points=\"418.5,-306 233.5,-306 233.5,-223 418.5,-223 418.5,-306\"/>\n<text text-anchor=\"middle\" x=\"326\" y=\"-290.8\" font-family=\"Helvetica,sans-Serif\" font-size=\"14.00\" fill=\"#000000\">트리글리세라이드 &lt;= 337.5</text>\n<text text-anchor=\"middle\" x=\"326\" y=\"-275.8\" font-family=\"Helvetica,sans-Serif\" font-size=\"14.00\" fill=\"#000000\">gini = 0.059</text>\n<text text-anchor=\"middle\" x=\"326\" y=\"-260.8\" font-family=\"Helvetica,sans-Serif\" font-size=\"14.00\" fill=\"#000000\">samples = 526</text>\n<text text-anchor=\"middle\" x=\"326\" y=\"-245.8\" font-family=\"Helvetica,sans-Serif\" font-size=\"14.00\" fill=\"#000000\">value = [16, 510]</text>\n<text text-anchor=\"middle\" x=\"326\" y=\"-230.8\" font-family=\"Helvetica,sans-Serif\" font-size=\"14.00\" fill=\"#000000\">class = 정상</text>\n</g>\n<!-- 1&#45;&gt;2 -->\n<g id=\"edge2\" class=\"edge\">\n<title>1&#45;&gt;2</title>\n<path fill=\"none\" stroke=\"#000000\" d=\"M510.8816,-345.6841C484.5642,-334.1278 455.3678,-321.3073 428.0966,-309.3321\"/>\n<polygon fill=\"#000000\" stroke=\"#000000\" points=\"429.4922,-306.1224 418.9288,-305.3064 426.6778,-312.5317 429.4922,-306.1224\"/>\n</g>\n<!-- 7 -->\n<g id=\"node8\" class=\"node\">\n<title>7</title>\n<polygon fill=\"#63b2eb\" stroke=\"#000000\" points=\"689.5,-306 504.5,-306 504.5,-223 689.5,-223 689.5,-306\"/>\n<text text-anchor=\"middle\" x=\"597\" y=\"-290.8\" font-family=\"Helvetica,sans-Serif\" font-size=\"14.00\" fill=\"#000000\">트리글리세라이드 &lt;= 267.5</text>\n<text text-anchor=\"middle\" x=\"597\" y=\"-275.8\" font-family=\"Helvetica,sans-Serif\" font-size=\"14.00\" fill=\"#000000\">gini = 0.29</text>\n<text text-anchor=\"middle\" x=\"597\" y=\"-260.8\" font-family=\"Helvetica,sans-Serif\" font-size=\"14.00\" fill=\"#000000\">samples = 250</text>\n<text text-anchor=\"middle\" x=\"597\" y=\"-245.8\" font-family=\"Helvetica,sans-Serif\" font-size=\"14.00\" fill=\"#000000\">value = [44, 206]</text>\n<text text-anchor=\"middle\" x=\"597\" y=\"-230.8\" font-family=\"Helvetica,sans-Serif\" font-size=\"14.00\" fill=\"#000000\">class = 정상</text>\n</g>\n<!-- 1&#45;&gt;7 -->\n<g id=\"edge7\" class=\"edge\">\n<title>1&#45;&gt;7</title>\n<path fill=\"none\" stroke=\"#000000\" d=\"M597,-341.8796C597,-333.6838 597,-324.9891 597,-316.5013\"/>\n<polygon fill=\"#000000\" stroke=\"#000000\" points=\"600.5001,-316.298 597,-306.2981 593.5001,-316.2981 600.5001,-316.298\"/>\n</g>\n<!-- 3 -->\n<g id=\"node4\" class=\"node\">\n<title>3</title>\n<polygon fill=\"#3ea0e6\" stroke=\"#000000\" points=\"254,-187 80,-187 80,-104 254,-104 254,-187\"/>\n<text text-anchor=\"middle\" x=\"167\" y=\"-171.8\" font-family=\"Helvetica,sans-Serif\" font-size=\"14.00\" fill=\"#000000\">(혈청지오티)AST &lt;= 36.0</text>\n<text text-anchor=\"middle\" x=\"167\" y=\"-156.8\" font-family=\"Helvetica,sans-Serif\" font-size=\"14.00\" fill=\"#000000\">gini = 0.052</text>\n<text text-anchor=\"middle\" x=\"167\" y=\"-141.8\" font-family=\"Helvetica,sans-Serif\" font-size=\"14.00\" fill=\"#000000\">samples = 524</text>\n<text text-anchor=\"middle\" x=\"167\" y=\"-126.8\" font-family=\"Helvetica,sans-Serif\" font-size=\"14.00\" fill=\"#000000\">value = [14, 510]</text>\n<text text-anchor=\"middle\" x=\"167\" y=\"-111.8\" font-family=\"Helvetica,sans-Serif\" font-size=\"14.00\" fill=\"#000000\">class = 정상</text>\n</g>\n<!-- 2&#45;&gt;3 -->\n<g id=\"edge3\" class=\"edge\">\n<title>2&#45;&gt;3</title>\n<path fill=\"none\" stroke=\"#000000\" d=\"M270.3895,-222.8796C257.5597,-213.2774 243.8148,-202.9903 230.6714,-193.1534\"/>\n<polygon fill=\"#000000\" stroke=\"#000000\" points=\"232.6823,-190.2868 222.5791,-187.0969 228.4879,-195.891 232.6823,-190.2868\"/>\n</g>\n<!-- 6 -->\n<g id=\"node7\" class=\"node\">\n<title>6</title>\n<polygon fill=\"#e58139\" stroke=\"#000000\" points=\"379.5,-179.5 272.5,-179.5 272.5,-111.5 379.5,-111.5 379.5,-179.5\"/>\n<text text-anchor=\"middle\" x=\"326\" y=\"-164.3\" font-family=\"Helvetica,sans-Serif\" font-size=\"14.00\" fill=\"#000000\">gini = 0.0</text>\n<text text-anchor=\"middle\" x=\"326\" y=\"-149.3\" font-family=\"Helvetica,sans-Serif\" font-size=\"14.00\" fill=\"#000000\">samples = 2</text>\n<text text-anchor=\"middle\" x=\"326\" y=\"-134.3\" font-family=\"Helvetica,sans-Serif\" font-size=\"14.00\" fill=\"#000000\">value = [2, 0]</text>\n<text text-anchor=\"middle\" x=\"326\" y=\"-119.3\" font-family=\"Helvetica,sans-Serif\" font-size=\"14.00\" fill=\"#000000\">class = 비정상</text>\n</g>\n<!-- 2&#45;&gt;6 -->\n<g id=\"edge6\" class=\"edge\">\n<title>2&#45;&gt;6</title>\n<path fill=\"none\" stroke=\"#000000\" d=\"M326,-222.8796C326,-212.2134 326,-200.7021 326,-189.9015\"/>\n<polygon fill=\"#000000\" stroke=\"#000000\" points=\"329.5001,-189.8149 326,-179.8149 322.5001,-189.815 329.5001,-189.8149\"/>\n</g>\n<!-- 4 -->\n<g id=\"node5\" class=\"node\">\n<title>4</title>\n<polygon fill=\"#3d9fe6\" stroke=\"#000000\" points=\"124,-68 0,-68 0,0 124,0 124,-68\"/>\n<text text-anchor=\"middle\" x=\"62\" y=\"-52.8\" font-family=\"Helvetica,sans-Serif\" font-size=\"14.00\" fill=\"#000000\">gini = 0.042</text>\n<text text-anchor=\"middle\" x=\"62\" y=\"-37.8\" font-family=\"Helvetica,sans-Serif\" font-size=\"14.00\" fill=\"#000000\">samples = 516</text>\n<text text-anchor=\"middle\" x=\"62\" y=\"-22.8\" font-family=\"Helvetica,sans-Serif\" font-size=\"14.00\" fill=\"#000000\">value = [11, 505]</text>\n<text text-anchor=\"middle\" x=\"62\" y=\"-7.8\" font-family=\"Helvetica,sans-Serif\" font-size=\"14.00\" fill=\"#000000\">class = 정상</text>\n</g>\n<!-- 3&#45;&gt;4 -->\n<g id=\"edge4\" class=\"edge\">\n<title>3&#45;&gt;4</title>\n<path fill=\"none\" stroke=\"#000000\" d=\"M127.9019,-103.9815C119.1604,-94.6989 109.8878,-84.8522 101.1444,-75.5677\"/>\n<polygon fill=\"#000000\" stroke=\"#000000\" points=\"103.67,-73.1443 94.2662,-68.2637 98.5739,-77.9433 103.67,-73.1443\"/>\n</g>\n<!-- 5 -->\n<g id=\"node6\" class=\"node\">\n<title>5</title>\n<polygon fill=\"#b0d8f5\" stroke=\"#000000\" points=\"241.5,-68 142.5,-68 142.5,0 241.5,0 241.5,-68\"/>\n<text text-anchor=\"middle\" x=\"192\" y=\"-52.8\" font-family=\"Helvetica,sans-Serif\" font-size=\"14.00\" fill=\"#000000\">gini = 0.469</text>\n<text text-anchor=\"middle\" x=\"192\" y=\"-37.8\" font-family=\"Helvetica,sans-Serif\" font-size=\"14.00\" fill=\"#000000\">samples = 8</text>\n<text text-anchor=\"middle\" x=\"192\" y=\"-22.8\" font-family=\"Helvetica,sans-Serif\" font-size=\"14.00\" fill=\"#000000\">value = [3, 5]</text>\n<text text-anchor=\"middle\" x=\"192\" y=\"-7.8\" font-family=\"Helvetica,sans-Serif\" font-size=\"14.00\" fill=\"#000000\">class = 정상</text>\n</g>\n<!-- 3&#45;&gt;5 -->\n<g id=\"edge5\" class=\"edge\">\n<title>3&#45;&gt;5</title>\n<path fill=\"none\" stroke=\"#000000\" d=\"M176.3091,-103.9815C178.2049,-95.5261 180.2057,-86.6026 182.1206,-78.0623\"/>\n<polygon fill=\"#000000\" stroke=\"#000000\" points=\"185.5449,-78.7872 184.3176,-68.2637 178.7144,-77.2556 185.5449,-78.7872\"/>\n</g>\n<!-- 8 -->\n<g id=\"node9\" class=\"node\">\n<title>8</title>\n<polygon fill=\"#5caeea\" stroke=\"#000000\" points=\"564,-187 398,-187 398,-104 564,-104 564,-187\"/>\n<text text-anchor=\"middle\" x=\"481\" y=\"-171.8\" font-family=\"Helvetica,sans-Serif\" font-size=\"14.00\" fill=\"#000000\">HDL콜레스테롤 &lt;= 92.5</text>\n<text text-anchor=\"middle\" x=\"481\" y=\"-156.8\" font-family=\"Helvetica,sans-Serif\" font-size=\"14.00\" fill=\"#000000\">gini = 0.256</text>\n<text text-anchor=\"middle\" x=\"481\" y=\"-141.8\" font-family=\"Helvetica,sans-Serif\" font-size=\"14.00\" fill=\"#000000\">samples = 232</text>\n<text text-anchor=\"middle\" x=\"481\" y=\"-126.8\" font-family=\"Helvetica,sans-Serif\" font-size=\"14.00\" fill=\"#000000\">value = [35, 197]</text>\n<text text-anchor=\"middle\" x=\"481\" y=\"-111.8\" font-family=\"Helvetica,sans-Serif\" font-size=\"14.00\" fill=\"#000000\">class = 정상</text>\n</g>\n<!-- 7&#45;&gt;8 -->\n<g id=\"edge8\" class=\"edge\">\n<title>7&#45;&gt;8</title>\n<path fill=\"none\" stroke=\"#000000\" d=\"M556.4288,-222.8796C547.5618,-213.7832 538.0956,-204.0722 528.9709,-194.7116\"/>\n<polygon fill=\"#000000\" stroke=\"#000000\" points=\"531.2309,-192.0158 521.7443,-187.2981 526.2183,-196.9019 531.2309,-192.0158\"/>\n</g>\n<!-- 11 -->\n<g id=\"node12\" class=\"node\">\n<title>11</title>\n<polygon fill=\"#ffffff\" stroke=\"#000000\" points=\"748,-187 582,-187 582,-104 748,-104 748,-187\"/>\n<text text-anchor=\"middle\" x=\"665\" y=\"-171.8\" font-family=\"Helvetica,sans-Serif\" font-size=\"14.00\" fill=\"#000000\">HDL콜레스테롤 &lt;= 54.0</text>\n<text text-anchor=\"middle\" x=\"665\" y=\"-156.8\" font-family=\"Helvetica,sans-Serif\" font-size=\"14.00\" fill=\"#000000\">gini = 0.5</text>\n<text text-anchor=\"middle\" x=\"665\" y=\"-141.8\" font-family=\"Helvetica,sans-Serif\" font-size=\"14.00\" fill=\"#000000\">samples = 18</text>\n<text text-anchor=\"middle\" x=\"665\" y=\"-126.8\" font-family=\"Helvetica,sans-Serif\" font-size=\"14.00\" fill=\"#000000\">value = [9, 9]</text>\n<text text-anchor=\"middle\" x=\"665\" y=\"-111.8\" font-family=\"Helvetica,sans-Serif\" font-size=\"14.00\" fill=\"#000000\">class = 비정상</text>\n</g>\n<!-- 7&#45;&gt;11 -->\n<g id=\"edge11\" class=\"edge\">\n<title>7&#45;&gt;11</title>\n<path fill=\"none\" stroke=\"#000000\" d=\"M620.7831,-222.8796C625.7237,-214.2335 630.9816,-205.0322 636.0833,-196.1042\"/>\n<polygon fill=\"#000000\" stroke=\"#000000\" points=\"639.1928,-197.717 641.1154,-187.2981 633.1151,-194.244 639.1928,-197.717\"/>\n</g>\n<!-- 9 -->\n<g id=\"node10\" class=\"node\">\n<title>9</title>\n<polygon fill=\"#5aade9\" stroke=\"#000000\" points=\"409,-68 285,-68 285,0 409,0 409,-68\"/>\n<text text-anchor=\"middle\" x=\"347\" y=\"-52.8\" font-family=\"Helvetica,sans-Serif\" font-size=\"14.00\" fill=\"#000000\">gini = 0.246</text>\n<text text-anchor=\"middle\" x=\"347\" y=\"-37.8\" font-family=\"Helvetica,sans-Serif\" font-size=\"14.00\" fill=\"#000000\">samples = 230</text>\n<text text-anchor=\"middle\" x=\"347\" y=\"-22.8\" font-family=\"Helvetica,sans-Serif\" font-size=\"14.00\" fill=\"#000000\">value = [33, 197]</text>\n<text text-anchor=\"middle\" x=\"347\" y=\"-7.8\" font-family=\"Helvetica,sans-Serif\" font-size=\"14.00\" fill=\"#000000\">class = 정상</text>\n</g>\n<!-- 8&#45;&gt;9 -->\n<g id=\"edge9\" class=\"edge\">\n<title>8&#45;&gt;9</title>\n<path fill=\"none\" stroke=\"#000000\" d=\"M431.1033,-103.9815C419.6162,-94.4232 407.4103,-84.2668 395.9633,-74.7419\"/>\n<polygon fill=\"#000000\" stroke=\"#000000\" points=\"398.1035,-71.9695 388.1779,-68.2637 393.6261,-77.3503 398.1035,-71.9695\"/>\n</g>\n<!-- 10 -->\n<g id=\"node11\" class=\"node\">\n<title>10</title>\n<polygon fill=\"#e58139\" stroke=\"#000000\" points=\"534.5,-68 427.5,-68 427.5,0 534.5,0 534.5,-68\"/>\n<text text-anchor=\"middle\" x=\"481\" y=\"-52.8\" font-family=\"Helvetica,sans-Serif\" font-size=\"14.00\" fill=\"#000000\">gini = 0.0</text>\n<text text-anchor=\"middle\" x=\"481\" y=\"-37.8\" font-family=\"Helvetica,sans-Serif\" font-size=\"14.00\" fill=\"#000000\">samples = 2</text>\n<text text-anchor=\"middle\" x=\"481\" y=\"-22.8\" font-family=\"Helvetica,sans-Serif\" font-size=\"14.00\" fill=\"#000000\">value = [2, 0]</text>\n<text text-anchor=\"middle\" x=\"481\" y=\"-7.8\" font-family=\"Helvetica,sans-Serif\" font-size=\"14.00\" fill=\"#000000\">class = 비정상</text>\n</g>\n<!-- 8&#45;&gt;10 -->\n<g id=\"edge10\" class=\"edge\">\n<title>8&#45;&gt;10</title>\n<path fill=\"none\" stroke=\"#000000\" d=\"M481,-103.9815C481,-95.618 481,-86.7965 481,-78.3409\"/>\n<polygon fill=\"#000000\" stroke=\"#000000\" points=\"484.5001,-78.2636 481,-68.2637 477.5001,-78.2637 484.5001,-78.2636\"/>\n</g>\n<!-- 12 -->\n<g id=\"node13\" class=\"node\">\n<title>12</title>\n<polygon fill=\"#91c9f1\" stroke=\"#000000\" points=\"657,-68 553,-68 553,0 657,0 657,-68\"/>\n<text text-anchor=\"middle\" x=\"605\" y=\"-52.8\" font-family=\"Helvetica,sans-Serif\" font-size=\"14.00\" fill=\"#000000\">gini = 0.426</text>\n<text text-anchor=\"middle\" x=\"605\" y=\"-37.8\" font-family=\"Helvetica,sans-Serif\" font-size=\"14.00\" fill=\"#000000\">samples = 13</text>\n<text text-anchor=\"middle\" x=\"605\" y=\"-22.8\" font-family=\"Helvetica,sans-Serif\" font-size=\"14.00\" fill=\"#000000\">value = [4, 9]</text>\n<text text-anchor=\"middle\" x=\"605\" y=\"-7.8\" font-family=\"Helvetica,sans-Serif\" font-size=\"14.00\" fill=\"#000000\">class = 정상</text>\n</g>\n<!-- 11&#45;&gt;12 -->\n<g id=\"edge12\" class=\"edge\">\n<title>11&#45;&gt;12</title>\n<path fill=\"none\" stroke=\"#000000\" d=\"M642.6582,-103.9815C637.9598,-95.2504 632.9929,-86.0202 628.2617,-77.2281\"/>\n<polygon fill=\"#000000\" stroke=\"#000000\" points=\"631.2586,-75.4111 623.4379,-68.2637 625.0944,-78.7282 631.2586,-75.4111\"/>\n</g>\n<!-- 13 -->\n<g id=\"node14\" class=\"node\">\n<title>13</title>\n<polygon fill=\"#e58139\" stroke=\"#000000\" points=\"782.5,-68 675.5,-68 675.5,0 782.5,0 782.5,-68\"/>\n<text text-anchor=\"middle\" x=\"729\" y=\"-52.8\" font-family=\"Helvetica,sans-Serif\" font-size=\"14.00\" fill=\"#000000\">gini = 0.0</text>\n<text text-anchor=\"middle\" x=\"729\" y=\"-37.8\" font-family=\"Helvetica,sans-Serif\" font-size=\"14.00\" fill=\"#000000\">samples = 5</text>\n<text text-anchor=\"middle\" x=\"729\" y=\"-22.8\" font-family=\"Helvetica,sans-Serif\" font-size=\"14.00\" fill=\"#000000\">value = [5, 0]</text>\n<text text-anchor=\"middle\" x=\"729\" y=\"-7.8\" font-family=\"Helvetica,sans-Serif\" font-size=\"14.00\" fill=\"#000000\">class = 비정상</text>\n</g>\n<!-- 11&#45;&gt;13 -->\n<g id=\"edge13\" class=\"edge\">\n<title>11&#45;&gt;13</title>\n<path fill=\"none\" stroke=\"#000000\" d=\"M688.8312,-103.9815C693.8956,-95.1585 699.2525,-85.8258 704.3468,-76.9506\"/>\n<polygon fill=\"#000000\" stroke=\"#000000\" points=\"707.3903,-78.6789 709.333,-68.2637 701.3193,-75.1942 707.3903,-78.6789\"/>\n</g>\n<!-- 15 -->\n<g id=\"node16\" class=\"node\">\n<title>15</title>\n<polygon fill=\"#83c2ef\" stroke=\"#000000\" points=\"1129,-306 955,-306 955,-223 1129,-223 1129,-306\"/>\n<text text-anchor=\"middle\" x=\"1042\" y=\"-290.8\" font-family=\"Helvetica,sans-Serif\" font-size=\"14.00\" fill=\"#000000\">(혈청지오티)AST &lt;= 33.5</text>\n<text text-anchor=\"middle\" x=\"1042\" y=\"-275.8\" font-family=\"Helvetica,sans-Serif\" font-size=\"14.00\" fill=\"#000000\">gini = 0.396</text>\n<text text-anchor=\"middle\" x=\"1042\" y=\"-260.8\" font-family=\"Helvetica,sans-Serif\" font-size=\"14.00\" fill=\"#000000\">samples = 70</text>\n<text text-anchor=\"middle\" x=\"1042\" y=\"-245.8\" font-family=\"Helvetica,sans-Serif\" font-size=\"14.00\" fill=\"#000000\">value = [19, 51]</text>\n<text text-anchor=\"middle\" x=\"1042\" y=\"-230.8\" font-family=\"Helvetica,sans-Serif\" font-size=\"14.00\" fill=\"#000000\">class = 정상</text>\n</g>\n<!-- 14&#45;&gt;15 -->\n<g id=\"edge15\" class=\"edge\">\n<title>14&#45;&gt;15</title>\n<path fill=\"none\" stroke=\"#000000\" d=\"M1042,-341.8796C1042,-333.6838 1042,-324.9891 1042,-316.5013\"/>\n<polygon fill=\"#000000\" stroke=\"#000000\" points=\"1045.5001,-316.298 1042,-306.2981 1038.5001,-316.2981 1045.5001,-316.298\"/>\n</g>\n<!-- 22 -->\n<g id=\"node23\" class=\"node\">\n<title>22</title>\n<polygon fill=\"#f6d1b7\" stroke=\"#000000\" points=\"1464,-306 1306,-306 1306,-223 1464,-223 1464,-306\"/>\n<text text-anchor=\"middle\" x=\"1385\" y=\"-290.8\" font-family=\"Helvetica,sans-Serif\" font-size=\"14.00\" fill=\"#000000\">총콜레스테롤 &lt;= 211.0</text>\n<text text-anchor=\"middle\" x=\"1385\" y=\"-275.8\" font-family=\"Helvetica,sans-Serif\" font-size=\"14.00\" fill=\"#000000\">gini = 0.475</text>\n<text text-anchor=\"middle\" x=\"1385\" y=\"-260.8\" font-family=\"Helvetica,sans-Serif\" font-size=\"14.00\" fill=\"#000000\">samples = 90</text>\n<text text-anchor=\"middle\" x=\"1385\" y=\"-245.8\" font-family=\"Helvetica,sans-Serif\" font-size=\"14.00\" fill=\"#000000\">value = [55, 35]</text>\n<text text-anchor=\"middle\" x=\"1385\" y=\"-230.8\" font-family=\"Helvetica,sans-Serif\" font-size=\"14.00\" fill=\"#000000\">class = 비정상</text>\n</g>\n<!-- 14&#45;&gt;22 -->\n<g id=\"edge22\" class=\"edge\">\n<title>14&#45;&gt;22</title>\n<path fill=\"none\" stroke=\"#000000\" d=\"M1139.3726,-349.7177C1188.7633,-332.5821 1248.3112,-311.9226 1296.4051,-295.237\"/>\n<polygon fill=\"#000000\" stroke=\"#000000\" points=\"1297.5644,-298.5395 1305.8647,-291.9551 1295.2699,-291.9262 1297.5644,-298.5395\"/>\n</g>\n<!-- 16 -->\n<g id=\"node17\" class=\"node\">\n<title>16</title>\n<polygon fill=\"#58ace9\" stroke=\"#000000\" points=\"1030.5,-187 875.5,-187 875.5,-104 1030.5,-104 1030.5,-187\"/>\n<text text-anchor=\"middle\" x=\"953\" y=\"-171.8\" font-family=\"Helvetica,sans-Serif\" font-size=\"14.00\" fill=\"#000000\">혈청크레아티닌 &lt;= 0.5</text>\n<text text-anchor=\"middle\" x=\"953\" y=\"-156.8\" font-family=\"Helvetica,sans-Serif\" font-size=\"14.00\" fill=\"#000000\">gini = 0.234</text>\n<text text-anchor=\"middle\" x=\"953\" y=\"-141.8\" font-family=\"Helvetica,sans-Serif\" font-size=\"14.00\" fill=\"#000000\">samples = 37</text>\n<text text-anchor=\"middle\" x=\"953\" y=\"-126.8\" font-family=\"Helvetica,sans-Serif\" font-size=\"14.00\" fill=\"#000000\">value = [5, 32]</text>\n<text text-anchor=\"middle\" x=\"953\" y=\"-111.8\" font-family=\"Helvetica,sans-Serif\" font-size=\"14.00\" fill=\"#000000\">class = 정상</text>\n</g>\n<!-- 15&#45;&gt;16 -->\n<g id=\"edge16\" class=\"edge\">\n<title>15&#45;&gt;16</title>\n<path fill=\"none\" stroke=\"#000000\" d=\"M1010.8721,-222.8796C1004.271,-214.0534 997.2371,-204.6485 990.4298,-195.5466\"/>\n<polygon fill=\"#000000\" stroke=\"#000000\" points=\"993.0528,-193.2099 984.2607,-187.2981 987.4472,-197.4024 993.0528,-193.2099\"/>\n</g>\n<!-- 19 -->\n<g id=\"node20\" class=\"node\">\n<title>19</title>\n<polygon fill=\"#cbe5f8\" stroke=\"#000000\" points=\"1213,-187 1049,-187 1049,-104 1213,-104 1213,-187\"/>\n<text text-anchor=\"middle\" x=\"1131\" y=\"-171.8\" font-family=\"Helvetica,sans-Serif\" font-size=\"14.00\" fill=\"#000000\">혈청크레아티닌 &lt;= 0.95</text>\n<text text-anchor=\"middle\" x=\"1131\" y=\"-156.8\" font-family=\"Helvetica,sans-Serif\" font-size=\"14.00\" fill=\"#000000\">gini = 0.489</text>\n<text text-anchor=\"middle\" x=\"1131\" y=\"-141.8\" font-family=\"Helvetica,sans-Serif\" font-size=\"14.00\" fill=\"#000000\">samples = 33</text>\n<text text-anchor=\"middle\" x=\"1131\" y=\"-126.8\" font-family=\"Helvetica,sans-Serif\" font-size=\"14.00\" fill=\"#000000\">value = [14, 19]</text>\n<text text-anchor=\"middle\" x=\"1131\" y=\"-111.8\" font-family=\"Helvetica,sans-Serif\" font-size=\"14.00\" fill=\"#000000\">class = 정상</text>\n</g>\n<!-- 15&#45;&gt;19 -->\n<g id=\"edge19\" class=\"edge\">\n<title>15&#45;&gt;19</title>\n<path fill=\"none\" stroke=\"#000000\" d=\"M1073.1279,-222.8796C1079.729,-214.0534 1086.7629,-204.6485 1093.5702,-195.5466\"/>\n<polygon fill=\"#000000\" stroke=\"#000000\" points=\"1096.5528,-197.4024 1099.7393,-187.2981 1090.9472,-193.2099 1096.5528,-197.4024\"/>\n</g>\n<!-- 17 -->\n<g id=\"node18\" class=\"node\">\n<title>17</title>\n<polygon fill=\"#e58139\" stroke=\"#000000\" points=\"907.5,-68 800.5,-68 800.5,0 907.5,0 907.5,-68\"/>\n<text text-anchor=\"middle\" x=\"854\" y=\"-52.8\" font-family=\"Helvetica,sans-Serif\" font-size=\"14.00\" fill=\"#000000\">gini = 0.0</text>\n<text text-anchor=\"middle\" x=\"854\" y=\"-37.8\" font-family=\"Helvetica,sans-Serif\" font-size=\"14.00\" fill=\"#000000\">samples = 1</text>\n<text text-anchor=\"middle\" x=\"854\" y=\"-22.8\" font-family=\"Helvetica,sans-Serif\" font-size=\"14.00\" fill=\"#000000\">value = [1, 0]</text>\n<text text-anchor=\"middle\" x=\"854\" y=\"-7.8\" font-family=\"Helvetica,sans-Serif\" font-size=\"14.00\" fill=\"#000000\">class = 비정상</text>\n</g>\n<!-- 16&#45;&gt;17 -->\n<g id=\"edge17\" class=\"edge\">\n<title>16&#45;&gt;17</title>\n<path fill=\"none\" stroke=\"#000000\" d=\"M916.1361,-103.9815C907.9757,-94.7908 899.3244,-85.0472 891.1526,-75.8436\"/>\n<polygon fill=\"#000000\" stroke=\"#000000\" points=\"893.6792,-73.4177 884.4225,-68.2637 888.4447,-78.0653 893.6792,-73.4177\"/>\n</g>\n<!-- 18 -->\n<g id=\"node19\" class=\"node\">\n<title>18</title>\n<polygon fill=\"#52a9e8\" stroke=\"#000000\" points=\"1032.5,-68 925.5,-68 925.5,0 1032.5,0 1032.5,-68\"/>\n<text text-anchor=\"middle\" x=\"979\" y=\"-52.8\" font-family=\"Helvetica,sans-Serif\" font-size=\"14.00\" fill=\"#000000\">gini = 0.198</text>\n<text text-anchor=\"middle\" x=\"979\" y=\"-37.8\" font-family=\"Helvetica,sans-Serif\" font-size=\"14.00\" fill=\"#000000\">samples = 36</text>\n<text text-anchor=\"middle\" x=\"979\" y=\"-22.8\" font-family=\"Helvetica,sans-Serif\" font-size=\"14.00\" fill=\"#000000\">value = [4, 32]</text>\n<text text-anchor=\"middle\" x=\"979\" y=\"-7.8\" font-family=\"Helvetica,sans-Serif\" font-size=\"14.00\" fill=\"#000000\">class = 정상</text>\n</g>\n<!-- 16&#45;&gt;18 -->\n<g id=\"edge18\" class=\"edge\">\n<title>16&#45;&gt;18</title>\n<path fill=\"none\" stroke=\"#000000\" d=\"M962.6814,-103.9815C964.6531,-95.5261 966.7339,-86.6026 968.7254,-78.0623\"/>\n<polygon fill=\"#000000\" stroke=\"#000000\" points=\"972.1478,-78.7973 971.0103,-68.2637 965.3307,-77.2076 972.1478,-78.7973\"/>\n</g>\n<!-- 20 -->\n<g id=\"node21\" class=\"node\">\n<title>20</title>\n<polygon fill=\"#f5cdb0\" stroke=\"#000000\" points=\"1157.5,-68 1050.5,-68 1050.5,0 1157.5,0 1157.5,-68\"/>\n<text text-anchor=\"middle\" x=\"1104\" y=\"-52.8\" font-family=\"Helvetica,sans-Serif\" font-size=\"14.00\" fill=\"#000000\">gini = 0.469</text>\n<text text-anchor=\"middle\" x=\"1104\" y=\"-37.8\" font-family=\"Helvetica,sans-Serif\" font-size=\"14.00\" fill=\"#000000\">samples = 16</text>\n<text text-anchor=\"middle\" x=\"1104\" y=\"-22.8\" font-family=\"Helvetica,sans-Serif\" font-size=\"14.00\" fill=\"#000000\">value = [10, 6]</text>\n<text text-anchor=\"middle\" x=\"1104\" y=\"-7.8\" font-family=\"Helvetica,sans-Serif\" font-size=\"14.00\" fill=\"#000000\">class = 비정상</text>\n</g>\n<!-- 19&#45;&gt;20 -->\n<g id=\"edge20\" class=\"edge\">\n<title>19&#45;&gt;20</title>\n<path fill=\"none\" stroke=\"#000000\" d=\"M1120.9462,-103.9815C1118.8987,-95.5261 1116.7379,-86.6026 1114.6698,-78.0623\"/>\n<polygon fill=\"#000000\" stroke=\"#000000\" points=\"1118.0523,-77.159 1112.297,-68.2637 1111.2489,-78.8065 1118.0523,-77.159\"/>\n</g>\n<!-- 21 -->\n<g id=\"node22\" class=\"node\">\n<title>21</title>\n<polygon fill=\"#76bbed\" stroke=\"#000000\" points=\"1282.5,-68 1175.5,-68 1175.5,0 1282.5,0 1282.5,-68\"/>\n<text text-anchor=\"middle\" x=\"1229\" y=\"-52.8\" font-family=\"Helvetica,sans-Serif\" font-size=\"14.00\" fill=\"#000000\">gini = 0.36</text>\n<text text-anchor=\"middle\" x=\"1229\" y=\"-37.8\" font-family=\"Helvetica,sans-Serif\" font-size=\"14.00\" fill=\"#000000\">samples = 17</text>\n<text text-anchor=\"middle\" x=\"1229\" y=\"-22.8\" font-family=\"Helvetica,sans-Serif\" font-size=\"14.00\" fill=\"#000000\">value = [4, 13]</text>\n<text text-anchor=\"middle\" x=\"1229\" y=\"-7.8\" font-family=\"Helvetica,sans-Serif\" font-size=\"14.00\" fill=\"#000000\">class = 정상</text>\n</g>\n<!-- 19&#45;&gt;21 -->\n<g id=\"edge21\" class=\"edge\">\n<title>19&#45;&gt;21</title>\n<path fill=\"none\" stroke=\"#000000\" d=\"M1167.4916,-103.9815C1175.5695,-94.7908 1184.1334,-85.0472 1192.2226,-75.8436\"/>\n<polygon fill=\"#000000\" stroke=\"#000000\" points=\"1194.912,-78.0855 1198.8848,-68.2637 1189.6542,-73.4642 1194.912,-78.0855\"/>\n</g>\n<!-- 23 -->\n<g id=\"node24\" class=\"node\">\n<title>23</title>\n<polygon fill=\"#d9ecfa\" stroke=\"#000000\" points=\"1467,-187 1303,-187 1303,-104 1467,-104 1467,-187\"/>\n<text text-anchor=\"middle\" x=\"1385\" y=\"-171.8\" font-family=\"Helvetica,sans-Serif\" font-size=\"14.00\" fill=\"#000000\">LDL콜레스테롤 &lt;= 95.5</text>\n<text text-anchor=\"middle\" x=\"1385\" y=\"-156.8\" font-family=\"Helvetica,sans-Serif\" font-size=\"14.00\" fill=\"#000000\">gini = 0.494</text>\n<text text-anchor=\"middle\" x=\"1385\" y=\"-141.8\" font-family=\"Helvetica,sans-Serif\" font-size=\"14.00\" fill=\"#000000\">samples = 47</text>\n<text text-anchor=\"middle\" x=\"1385\" y=\"-126.8\" font-family=\"Helvetica,sans-Serif\" font-size=\"14.00\" fill=\"#000000\">value = [21, 26]</text>\n<text text-anchor=\"middle\" x=\"1385\" y=\"-111.8\" font-family=\"Helvetica,sans-Serif\" font-size=\"14.00\" fill=\"#000000\">class = 정상</text>\n</g>\n<!-- 22&#45;&gt;23 -->\n<g id=\"edge23\" class=\"edge\">\n<title>22&#45;&gt;23</title>\n<path fill=\"none\" stroke=\"#000000\" d=\"M1385,-222.8796C1385,-214.6838 1385,-205.9891 1385,-197.5013\"/>\n<polygon fill=\"#000000\" stroke=\"#000000\" points=\"1388.5001,-197.298 1385,-187.2981 1381.5001,-197.2981 1388.5001,-197.298\"/>\n</g>\n<!-- 26 -->\n<g id=\"node27\" class=\"node\">\n<title>26</title>\n<polygon fill=\"#eca26d\" stroke=\"#000000\" points=\"1683,-187 1517,-187 1517,-104 1683,-104 1683,-187\"/>\n<text text-anchor=\"middle\" x=\"1600\" y=\"-171.8\" font-family=\"Helvetica,sans-Serif\" font-size=\"14.00\" fill=\"#000000\">HDL콜레스테롤 &lt;= 35.5</text>\n<text text-anchor=\"middle\" x=\"1600\" y=\"-156.8\" font-family=\"Helvetica,sans-Serif\" font-size=\"14.00\" fill=\"#000000\">gini = 0.331</text>\n<text text-anchor=\"middle\" x=\"1600\" y=\"-141.8\" font-family=\"Helvetica,sans-Serif\" font-size=\"14.00\" fill=\"#000000\">samples = 43</text>\n<text text-anchor=\"middle\" x=\"1600\" y=\"-126.8\" font-family=\"Helvetica,sans-Serif\" font-size=\"14.00\" fill=\"#000000\">value = [34, 9]</text>\n<text text-anchor=\"middle\" x=\"1600\" y=\"-111.8\" font-family=\"Helvetica,sans-Serif\" font-size=\"14.00\" fill=\"#000000\">class = 비정상</text>\n</g>\n<!-- 22&#45;&gt;26 -->\n<g id=\"edge26\" class=\"edge\">\n<title>22&#45;&gt;26</title>\n<path fill=\"none\" stroke=\"#000000\" d=\"M1460.1966,-222.8796C1478.1997,-212.915 1497.5355,-202.2129 1515.9119,-192.0418\"/>\n<polygon fill=\"#000000\" stroke=\"#000000\" points=\"1517.7916,-195.0018 1524.8459,-187.0969 1514.4017,-188.8773 1517.7916,-195.0018\"/>\n</g>\n<!-- 24 -->\n<g id=\"node25\" class=\"node\">\n<title>24</title>\n<polygon fill=\"#f3c4a2\" stroke=\"#000000\" points=\"1407.5,-68 1300.5,-68 1300.5,0 1407.5,0 1407.5,-68\"/>\n<text text-anchor=\"middle\" x=\"1354\" y=\"-52.8\" font-family=\"Helvetica,sans-Serif\" font-size=\"14.00\" fill=\"#000000\">gini = 0.453</text>\n<text text-anchor=\"middle\" x=\"1354\" y=\"-37.8\" font-family=\"Helvetica,sans-Serif\" font-size=\"14.00\" fill=\"#000000\">samples = 26</text>\n<text text-anchor=\"middle\" x=\"1354\" y=\"-22.8\" font-family=\"Helvetica,sans-Serif\" font-size=\"14.00\" fill=\"#000000\">value = [17, 9]</text>\n<text text-anchor=\"middle\" x=\"1354\" y=\"-7.8\" font-family=\"Helvetica,sans-Serif\" font-size=\"14.00\" fill=\"#000000\">class = 비정상</text>\n</g>\n<!-- 23&#45;&gt;24 -->\n<g id=\"edge24\" class=\"edge\">\n<title>23&#45;&gt;24</title>\n<path fill=\"none\" stroke=\"#000000\" d=\"M1373.4567,-103.9815C1371.1059,-95.5261 1368.6249,-86.6026 1366.2505,-78.0623\"/>\n<polygon fill=\"#000000\" stroke=\"#000000\" points=\"1369.5771,-76.9607 1363.5262,-68.2637 1362.8329,-78.8358 1369.5771,-76.9607\"/>\n</g>\n<!-- 25 -->\n<g id=\"node26\" class=\"node\">\n<title>25</title>\n<polygon fill=\"#68b4eb\" stroke=\"#000000\" points=\"1532.5,-68 1425.5,-68 1425.5,0 1532.5,0 1532.5,-68\"/>\n<text text-anchor=\"middle\" x=\"1479\" y=\"-52.8\" font-family=\"Helvetica,sans-Serif\" font-size=\"14.00\" fill=\"#000000\">gini = 0.308</text>\n<text text-anchor=\"middle\" x=\"1479\" y=\"-37.8\" font-family=\"Helvetica,sans-Serif\" font-size=\"14.00\" fill=\"#000000\">samples = 21</text>\n<text text-anchor=\"middle\" x=\"1479\" y=\"-22.8\" font-family=\"Helvetica,sans-Serif\" font-size=\"14.00\" fill=\"#000000\">value = [4, 17]</text>\n<text text-anchor=\"middle\" x=\"1479\" y=\"-7.8\" font-family=\"Helvetica,sans-Serif\" font-size=\"14.00\" fill=\"#000000\">class = 정상</text>\n</g>\n<!-- 23&#45;&gt;25 -->\n<g id=\"edge25\" class=\"edge\">\n<title>23&#45;&gt;25</title>\n<path fill=\"none\" stroke=\"#000000\" d=\"M1420.0021,-103.9815C1427.6728,-94.8828 1435.8005,-85.242 1443.4909,-76.1199\"/>\n<polygon fill=\"#000000\" stroke=\"#000000\" points=\"1446.3444,-78.1652 1450.114,-68.2637 1440.9925,-73.6533 1446.3444,-78.1652\"/>\n</g>\n<!-- 27 -->\n<g id=\"node28\" class=\"node\">\n<title>27</title>\n<polygon fill=\"#399de5\" stroke=\"#000000\" points=\"1649.5,-68 1550.5,-68 1550.5,0 1649.5,0 1649.5,-68\"/>\n<text text-anchor=\"middle\" x=\"1600\" y=\"-52.8\" font-family=\"Helvetica,sans-Serif\" font-size=\"14.00\" fill=\"#000000\">gini = 0.0</text>\n<text text-anchor=\"middle\" x=\"1600\" y=\"-37.8\" font-family=\"Helvetica,sans-Serif\" font-size=\"14.00\" fill=\"#000000\">samples = 2</text>\n<text text-anchor=\"middle\" x=\"1600\" y=\"-22.8\" font-family=\"Helvetica,sans-Serif\" font-size=\"14.00\" fill=\"#000000\">value = [0, 2]</text>\n<text text-anchor=\"middle\" x=\"1600\" y=\"-7.8\" font-family=\"Helvetica,sans-Serif\" font-size=\"14.00\" fill=\"#000000\">class = 정상</text>\n</g>\n<!-- 26&#45;&gt;27 -->\n<g id=\"edge27\" class=\"edge\">\n<title>26&#45;&gt;27</title>\n<path fill=\"none\" stroke=\"#000000\" d=\"M1600,-103.9815C1600,-95.618 1600,-86.7965 1600,-78.3409\"/>\n<polygon fill=\"#000000\" stroke=\"#000000\" points=\"1603.5001,-78.2636 1600,-68.2637 1596.5001,-78.2637 1603.5001,-78.2636\"/>\n</g>\n<!-- 28 -->\n<g id=\"node29\" class=\"node\">\n<title>28</title>\n<polygon fill=\"#ea9b62\" stroke=\"#000000\" points=\"1774.5,-68 1667.5,-68 1667.5,0 1774.5,0 1774.5,-68\"/>\n<text text-anchor=\"middle\" x=\"1721\" y=\"-52.8\" font-family=\"Helvetica,sans-Serif\" font-size=\"14.00\" fill=\"#000000\">gini = 0.283</text>\n<text text-anchor=\"middle\" x=\"1721\" y=\"-37.8\" font-family=\"Helvetica,sans-Serif\" font-size=\"14.00\" fill=\"#000000\">samples = 41</text>\n<text text-anchor=\"middle\" x=\"1721\" y=\"-22.8\" font-family=\"Helvetica,sans-Serif\" font-size=\"14.00\" fill=\"#000000\">value = [34, 7]</text>\n<text text-anchor=\"middle\" x=\"1721\" y=\"-7.8\" font-family=\"Helvetica,sans-Serif\" font-size=\"14.00\" fill=\"#000000\">class = 비정상</text>\n</g>\n<!-- 26&#45;&gt;28 -->\n<g id=\"edge28\" class=\"edge\">\n<title>26&#45;&gt;28</title>\n<path fill=\"none\" stroke=\"#000000\" d=\"M1645.0559,-103.9815C1655.2291,-94.607 1666.0267,-84.6572 1676.1898,-75.2921\"/>\n<polygon fill=\"#000000\" stroke=\"#000000\" points=\"1678.8349,-77.6141 1683.817,-68.2637 1674.0913,-72.4663 1678.8349,-77.6141\"/>\n</g>\n</g>\n</svg>\n"
          },
          "metadata": {}
        }
      ]
    },
    {
      "cell_type": "markdown",
      "source": [
        "***4) 변수의 중요도 나타내기***"
      ],
      "metadata": {
        "id": "bQEZjiRqU0Nv"
      }
    },
    {
      "cell_type": "code",
      "source": [
        "#변수의 중요도\n",
        "result = tree.feature_importances_\n",
        "print(\"변수의 중요도:\\n\", result)\n",
        "print(\" \")\n",
        "\n",
        "#변수의 중요도 시각화 함수\n",
        "def plot_feature_importances_wisc(model):\n",
        "    plt.rcParams[\"figure.figsize\"] = (9,6) \n",
        "    n_features = len(health_new.columns[12:24])\n",
        "    plt.barh(np.arange(n_features), model.feature_importances_, align='center') \n",
        "    plt.yticks(np.arange(n_features),health_new.columns[12:24]) \n",
        "    plt.xlabel(\"feature importance\")\n",
        "    plt.ylabel(\"feature\")\n",
        "    plt.ylim(-1, n_features)\n",
        "\n",
        "plot_feature_importances_wisc(tree)"
      ],
      "metadata": {
        "colab": {
          "base_uri": "https://localhost:8080/",
          "height": 462
        },
        "id": "I3cM4cUySvsW",
        "outputId": "18c9ecbb-085e-4c60-acda-13bbc6e12f57"
      },
      "execution_count": null,
      "outputs": [
        {
          "output_type": "stream",
          "name": "stdout",
          "text": [
            "변수의 중요도:\n",
            " [0.         0.         0.09909098 0.05791991 0.08557436 0.09807737\n",
            " 0.05440235 0.         0.         0.04406938 0.05329146 0.50757419]\n",
            " \n"
          ]
        },
        {
          "output_type": "display_data",
          "data": {
            "text/plain": [
              "<Figure size 648x432 with 1 Axes>"
            ],
            "image/png": "[encoded data removed]"
          },
          "metadata": {
            "needs_background": "light"
          }
        }
      ]
    },
    {
      "cell_type": "markdown",
      "source": [
        "###**Step 4-2. 분류 모델: 그래디언트 부스팅** "
      ],
      "metadata": {
        "id": "vK8j5XcIrCEJ"
      }
    },
    {
      "cell_type": "markdown",
      "source": [
        "***1) 그래디언트부스팅 실행***"
      ],
      "metadata": {
        "id": "7w-9ngoM5XE6"
      }
    },
    {
      "cell_type": "code",
      "source": [
        "from sklearn.ensemble import GradientBoostingClassifier\n",
        "\n",
        "#default: max_depth= 3, n_estimators=100, learning_rate = 0.1"
      ],
      "metadata": {
        "id": "6kPtCmSy236A"
      },
      "execution_count": null,
      "outputs": []
    },
    {
      "cell_type": "code",
      "source": [
        "#그래디언트부스팅 학습 시작\n",
        "gbrt = GradientBoostingClassifier(random_state=0)\n",
        "gbrt.fit(X_train, y_train)\n",
        "\n",
        "print(\"학습용 데이터 세트 정확도: {:.3f}\".format(gbrt.score(X_train, y_train)))\n",
        "print(\"시험용 데이터 세트 정확도: {:.3f}\".format(gbrt.score(X_test, y_test)))"
      ],
      "metadata": {
        "colab": {
          "base_uri": "https://localhost:8080/"
        },
        "id": "8uOwpcr63Gye",
        "outputId": "93795cfe-2976-4cca-fedf-57e73fa976ae"
      },
      "execution_count": null,
      "outputs": [
        {
          "output_type": "stream",
          "name": "stdout",
          "text": [
            "학습용 데이터 세트 정확도: 0.963\n",
            "시험용 데이터 세트 정확도: 0.840\n"
          ]
        }
      ]
    },
    {
      "cell_type": "markdown",
      "source": [
        "***2) 변수 중요도 시각화***"
      ],
      "metadata": {
        "id": "0B19XiCW5ykJ"
      }
    },
    {
      "cell_type": "code",
      "source": [
        "#변수 중요도 시각화 \n",
        "plot_feature_importances_wisc(gbrt)"
      ],
      "metadata": {
        "colab": {
          "base_uri": "https://localhost:8080/",
          "height": 389
        },
        "id": "jaOb7dqW3Pf3",
        "outputId": "26b3e7c9-b3c4-4739-d78b-a86925e831ce"
      },
      "execution_count": null,
      "outputs": [
        {
          "output_type": "display_data",
          "data": {
            "text/plain": [
              "<Figure size 648x432 with 1 Axes>"
            ],
            "image/png": "[encoded data removed]"
          },
          "metadata": {
            "needs_background": "light"
          }
        }
      ]
    },
    {
      "cell_type": "markdown",
      "source": [
        "***3-1) 파라미터 변경: max_depth***\n",
        "\n",
        "max_depth=4일 때 학습데이터 세트 정확도가 시험용데이터 세트 정확도가 가장 높았다"
      ],
      "metadata": {
        "id": "77S8TceN3gW5"
      }
    },
    {
      "cell_type": "code",
      "source": [
        "gbrt = GradientBoostingClassifier(random_state=0, max_depth=4)\n",
        "gbrt.fit(X_train, y_train)\n",
        "\n",
        "print(\"학습 데이터 세트 정확도: {:.3f}\".format(gbrt.score(X_train, y_train)))\n",
        "print(\"시험용 데이터 세트 정확도: {:.3f}\".format(gbrt.score(X_test, y_test)))"
      ],
      "metadata": {
        "colab": {
          "base_uri": "https://localhost:8080/"
        },
        "id": "ASbzfhVl3j2H",
        "outputId": "9d51a87f-4de0-46a1-883c-68b52eb59974"
      },
      "execution_count": null,
      "outputs": [
        {
          "output_type": "stream",
          "name": "stdout",
          "text": [
            "학습 데이터 세트 정확도: 0.991\n",
            "시험용 데이터 세트 정확도: 0.850\n"
          ]
        }
      ]
    },
    {
      "cell_type": "markdown",
      "source": [
        "***3-2) 파라미터 변경: learning_rate***\n",
        "\n",
        "learning_rate=0.05일 때 학습데이터 세트 정확도는 낮아졌지만 시험용데이터 세트 정확도가 높아졌다"
      ],
      "metadata": {
        "id": "ArsaNBj438SK"
      }
    },
    {
      "cell_type": "code",
      "source": [
        "gbrt = GradientBoostingClassifier(random_state=0, max_depth=4, learning_rate=0.05)\n",
        "gbrt.fit(X_train, y_train)\n",
        "\n",
        "print(\"학습 데이터 세트 정확도: {:.3f}\".format(gbrt.score(X_train, y_train)))\n",
        "print(\"시험용 데이터 세트 정확도: {:.3f}\".format(gbrt.score(X_test, y_test)))"
      ],
      "metadata": {
        "colab": {
          "base_uri": "https://localhost:8080/"
        },
        "id": "aJvifHwj4Rbf",
        "outputId": "7c08bc68-8ed2-45e3-eac6-888238310364"
      },
      "execution_count": null,
      "outputs": [
        {
          "output_type": "stream",
          "name": "stdout",
          "text": [
            "학습 데이터 세트 정확도: 0.969\n",
            "시험용 데이터 세트 정확도: 0.866\n"
          ]
        }
      ]
    },
    {
      "cell_type": "markdown",
      "source": [
        "### **Step 5. 분류모델 평가: 평가척도 계산**\n"
      ],
      "metadata": {
        "id": "jmBDRSsEnz5l"
      }
    },
    {
      "cell_type": "markdown",
      "source": [
        "***1) 정오분류표***"
      ],
      "metadata": {
        "id": "fkvcCpjQQqDP"
      }
    },
    {
      "cell_type": "code",
      "source": [
        "from sklearn.metrics import accuracy_score, precision_score, recall_score, f1_score\n",
        "from sklearn.metrics import confusion_matrix \n",
        "\n",
        "print(y_test.value_counts())\n",
        "print('')\n",
        "\n",
        "#모델불러오기\n",
        "dt_pred = tree.predict(X_test)\n",
        "grid_gbrt_pred = gbrt.predict(X_test)\n",
        "\n",
        "#y_test의 Confusion Matrix 출력\n",
        "print('Decision tree 시험용 데이터 세트 정확도:{:.3f}'.format(accuracy_score(y_test, dt_pred)))\n",
        "print(confusion_matrix(y_test, dt_pred))\n",
        "print('')\n",
        "\n",
        "print('Gradient boosting 시험용 데이터 세트 정확도:{:.3f}'.format(accuracy_score(y_test, grid_gbrt_pred)))\n",
        "print(confusion_matrix(y_test, grid_gbrt_pred))"
      ],
      "metadata": {
        "colab": {
          "base_uri": "https://localhost:8080/"
        },
        "id": "_vb-6EugPvOf",
        "outputId": "f07ad20c-2bc9-4066-ed3b-d7120e357bcc"
      },
      "execution_count": null,
      "outputs": [
        {
          "output_type": "stream",
          "name": "stdout",
          "text": [
            "N    268\n",
            "A     45\n",
            "Name: y-gtp, dtype: int64\n",
            "\n",
            "Decision tree 시험용 데이터 세트 정확도:0.850\n",
            "[[ 15  30]\n",
            " [ 17 251]]\n",
            "\n",
            "Gradient boosting 시험용 데이터 세트 정확도:0.866\n",
            "[[ 12  33]\n",
            " [  9 259]]\n"
          ]
        }
      ]
    },
    {
      "cell_type": "markdown",
      "source": [
        "***2) 평가척도 계산***\n"
      ],
      "metadata": {
        "id": "U8ddgABsQvNE"
      }
    },
    {
      "cell_type": "code",
      "source": [
        "#의사결정나무 모델 평가척도 계산\n",
        "print('정밀도 = {:.3f}'.format(251/281))\n",
        "print('재현율 = {:.3f}'.format(251/268))\n",
        "print('f1-measure = {:.3f}'.format(2*0.893*0.937/(0.893+ 0.937)))"
      ],
      "metadata": {
        "colab": {
          "base_uri": "https://localhost:8080/"
        },
        "id": "ISk6T98boGsb",
        "outputId": "9dd1871a-a841-462e-aaaa-c1bef9cbf35e"
      },
      "execution_count": null,
      "outputs": [
        {
          "output_type": "stream",
          "name": "stdout",
          "text": [
            "정밀도 = 0.893\n",
            "재현율 = 0.937\n",
            "f1-measure = 0.914\n"
          ]
        }
      ]
    },
    {
      "cell_type": "code",
      "source": [
        "#그래디언트부스팅 모델 평가척도 계산\n",
        "print('정밀도 = {:.3f}'.format(259/292))\n",
        "print('재현율 = {:.3f}'.format(259/268))\n",
        "print('f1-measure = {:.3f}'.format(2* 0.887*0.966/( 0.887+ 0.966)))"
      ],
      "metadata": {
        "colab": {
          "base_uri": "https://localhost:8080/"
        },
        "id": "EClkV9GkLkHj",
        "outputId": "de2899b0-bf85-4890-fa54-1c004c5991da"
      },
      "execution_count": null,
      "outputs": [
        {
          "output_type": "stream",
          "name": "stdout",
          "text": [
            "정밀도 = 0.887\n",
            "재현율 = 0.966\n",
            "f1-measure = 0.925\n"
          ]
        }
      ]
    },
    {
      "cell_type": "markdown",
      "source": [
        "***3) classifiaction_report***"
      ],
      "metadata": {
        "id": "_ArTBRRNr3CT"
      }
    },
    {
      "cell_type": "code",
      "source": [
        "#각 클래스(N,A)가 positive일 때의 정밀도, 재현율, f1-score\n",
        "from sklearn.metrics import classification_report\n",
        "\n",
        "#의사결정나무\n",
        "print(\"Decision Tree:\")\n",
        "print(classification_report(y_test, dt_pred, target_names=[\"N\", \"A\"]))\n",
        "print(\" \")\n",
        "\n",
        "#그래디언트부스팅\n",
        "print(\"Gradient Boosting:\")\n",
        "print(classification_report(y_test, grid_gbrt_pred, target_names=[\"N\", \"A\"]))"
      ],
      "metadata": {
        "colab": {
          "base_uri": "https://localhost:8080/"
        },
        "id": "TzMWkInWrrnR",
        "outputId": "f5f9b0a4-0fe0-4248-f15b-ebbb9d7fbdf6"
      },
      "execution_count": null,
      "outputs": [
        {
          "output_type": "stream",
          "name": "stdout",
          "text": [
            "Decision Tree:\n",
            "              precision    recall  f1-score   support\n",
            "\n",
            "           N       0.47      0.33      0.39        45\n",
            "           A       0.89      0.94      0.91       268\n",
            "\n",
            "    accuracy                           0.85       313\n",
            "   macro avg       0.68      0.63      0.65       313\n",
            "weighted avg       0.83      0.85      0.84       313\n",
            "\n",
            " \n",
            "Gradient Boosting:\n",
            "              precision    recall  f1-score   support\n",
            "\n",
            "           N       0.57      0.27      0.36        45\n",
            "           A       0.89      0.97      0.93       268\n",
            "\n",
            "    accuracy                           0.87       313\n",
            "   macro avg       0.73      0.62      0.64       313\n",
            "weighted avg       0.84      0.87      0.84       313\n",
            "\n"
          ]
        }
      ]
    },
    {
      "cell_type": "markdown",
      "source": [],
      "metadata": {
        "id": "cPJhs-6JYgzD"
      }
    },
    {
      "cell_type": "markdown",
      "source": [
        "### **Step 6. 인사이트**"
      ],
      "metadata": {
        "id": "gqrat0TB4n2U"
      }
    },
    {
      "cell_type": "markdown",
      "source": [
        "***분류 모델 평가***\n",
        "\n",
        "감마지티피 수치가 Positive(정상)인 사례를 Negative(비정상)으로 분류하는 것보다 Negative(비정상)인 사례를 Positive(정상)으로 분류하는 것이 오분류 비용이 크기 때문에 해당 분류에서는 정밀도가 상대적으로 더 중요한 지표로 작용한다. 즉, 정밀도 값이 더 큰 의사결정나무모델(=0.893)이 그래디언트부스팅모델(=0.887)보다 적합하다고 해석할 수 있다.\n",
        "\n",
        "그러나 'N', 'A' 클래스의 샘플 수가 각각 268개, 45개로 약 6배 정도 차이가 나기 때문에 샘플 개수의 불균형을 고려한 가중평균치 값을 비교해 샘플의 개수가 적은 클래스의 영향력이 감소시키는 것이 필요하다. classifiaction_report에서 의사결정나무와 그래디언트부스팅 모델의 precision의 weighted avg를 비교하면 의사결정나무(=0.83)보다 그래디언트부스팅(=0.84)의 가중평균치가 높은 것을 알 수 있다. 따라서 그래디언트부스팅 모델이 더 적합한 모델이라고 평가할 수 있다.\n",
        "\n",
        "\n"
      ],
      "metadata": {
        "id": "VtE4oe1tMXn-"
      }
    },
    {
      "cell_type": "markdown",
      "source": [
        "***변수의 중요도***\n",
        "\n",
        "의사결정나무와 그래디언트 부스팅 두 모델에서 공통적으로 ALT의 중요도가 다른 변수들에 비해 매우 높게 나타났다. ALT는 전적으로 간에 존재하는 효소로 감마지티피, AST와 함께 간 기능 검사에 사용된다. AST의 경우 간 외에도 심장, 신장, 뇌, 골격근육 등에 존재하기 때문에 ALT에 비해 비교적 중요도가 낮게 측정되었음을 알 수 있다.\n",
        "\n",
        "그래디언트부스팅모델에서 ALT와 AST 다음으로 높은 중요도를 나타낸 변수는 트리글리세라이드이다. 트리글리세라이드는 중성지방을 뜻하며 트리글리세라이드 수치가 높다는 것은 체내에 포화지방이 많이 쌓인 것을 의미한다. 트리글리세라이드의 특징 중 하나는 알코올의 영향을 많이 받는 것인데 알코올이 감마지티피 수치에도 큰 영향을 주기 때문에 다음과 같은 결과가 나타났다고 볼 수 있다. "
      ],
      "metadata": {
        "id": "m-WZoC5W9Ia0"
      }
    }
  ]
}