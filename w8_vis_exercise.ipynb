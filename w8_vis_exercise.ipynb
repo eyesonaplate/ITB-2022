{
  "nbformat": 4,
  "nbformat_minor": 0,
  "metadata": {
    "colab": {
      "provenance": [],
      "collapsed_sections": [
        "wLduRxwHmMPb",
        "pj-YowijNa_8",
        "hLghihBrPkWh"
      ],
      "authorship_tag": "ABX9TyOn/wiQ5QF5/FRiDttj2cPz",
      "include_colab_link": true
    },
    "kernelspec": {
      "name": "python3",
      "display_name": "Python 3"
    },
    "language_info": {
      "name": "python"
    }
  },
  "cells": [
    {
      "cell_type": "markdown",
      "metadata": {
        "id": "view-in-github",
        "colab_type": "text"
      },
      "source": [
        "<a href=\"https://colab.research.google.com/github/eyesonaplate/ITB-2022/blob/main/w8_vis_exercise.ipynb\" target=\"_parent\"><img src=\"https://colab.research.google.com/assets/colab-badge.svg\" alt=\"Open In Colab\"/></a>"
      ]
    },
    {
      "cell_type": "markdown",
      "source": [
        "# **ITB 22-2학기 8주차 시각화 과제**\n",
        "*홍보광고학과 1911298 이지우*"
      ],
      "metadata": {
        "id": "vTg0YMQei6g8"
      }
    },
    {
      "cell_type": "markdown",
      "source": [
        "### **문제**\n",
        "다음 2020년도 건강검진정보 샘플(1만건) 데이터를 이용하여 시각화 과정, 즉 탐색적 데이터 분석(Exploratory Data Analysis)을 수행하고 검진결과의 특징을 보여주시오. \n",
        "\n",
        "health_data.csv  (31개 항목, 1만건 데이터) \n",
        "health_data_description.xlsx  (데이터 설명) \n",
        "\n",
        "- matplotlib/seaborn/pandas 패키지를 이용하고, 필요하다면 엑셀 또는 파이썬 코드로 데이터 전처리 수행 \n",
        "- 이용한 차트의 종류가 3가지 이상이어야 함 (산점도, 막대 그래프, 라인 그래프 등)\n",
        "- 시각화 결과를 해석하고  3가지의 인사이트 도출하기 \n",
        "- 코드는 github에 올리고 주소 제출\n"
      ],
      "metadata": {
        "id": "2H_uATvtjY9_"
      }
    },
    {
      "cell_type": "markdown",
      "source": [
        "### 필수 실행 코드"
      ],
      "metadata": {
        "id": "-R6ujoIuqiNU"
      }
    },
    {
      "cell_type": "code",
      "source": [
        "# 한글 깨짐 방지\n",
        "!sudo apt-get install -y fonts-nanum\n",
        "!sudo fc-cache -fv\n",
        "!rm ~/.cache/matplotlib -rf \n",
        "\n",
        "# 해당 코드 실행 후 런타임을 다시 실행하면 한글이 깨지지 않음"
      ],
      "metadata": {
        "id": "CurwyP-kKi7q"
      },
      "execution_count": null,
      "outputs": []
    },
    {
      "cell_type": "code",
      "source": [
        "# 폰트 설정\n",
        "import matplotlib.pyplot as plt\n",
        "plt.rc('font', family='NanumBarunGothic')"
      ],
      "metadata": {
        "id": "8LemX_aYlvt8"
      },
      "execution_count": null,
      "outputs": []
    },
    {
      "cell_type": "code",
      "source": [
        "# 파일 경로 설정\n",
        "from google.colab import drive\n",
        "drive.mount('/content/drive')"
      ],
      "metadata": {
        "id": "tNNdKjIvr2jS",
        "colab": {
          "base_uri": "https://localhost:8080/"
        },
        "outputId": "d92eefa5-6284-47f9-8005-f8be28ae3319"
      },
      "execution_count": null,
      "outputs": [
        {
          "output_type": "stream",
          "name": "stdout",
          "text": [
            "Drive already mounted at /content/drive; to attempt to forcibly remount, call drive.mount(\"/content/drive\", force_remount=True).\n"
          ]
        }
      ]
    },
    {
      "cell_type": "code",
      "source": [
        "# csv파일 불러오기\n",
        "health = pd.read_csv(\"/content/drive/My Drive/Colab Notebooks/ITB 2022/health_data.csv\")"
      ],
      "metadata": {
        "id": "NRXtOfOfHBBJ"
      },
      "execution_count": null,
      "outputs": []
    },
    {
      "cell_type": "code",
      "source": [
        "# 패키지 불러오기\n",
        "import pandas as pd\n",
        "import numpy as np\n"
      ],
      "metadata": {
        "id": "OA1l96sWs0Ku"
      },
      "execution_count": null,
      "outputs": []
    },
    {
      "cell_type": "markdown",
      "source": [
        "### **vis1. 10세 단위의 연령대별 금연비율 증감**을 보여주는 **라인 그래프**\n",
        "\n",
        "\n",
        "\n",
        "\n",
        "\n",
        "\n",
        "\n",
        "\n"
      ],
      "metadata": {
        "id": "wLduRxwHmMPb"
      }
    },
    {
      "cell_type": "markdown",
      "source": [
        "**1) 데이터 전처리: 5세 단위의 연령대코드를 10세 단위로 바꾼 새로운 변수 '연령대' 추가**\n",
        "\n",
        "엑셀에서 health_data.csv파일을 불러온 뒤 vlookup함수를 이용해 5세 단위의 연령대코드를 10대 미만, 10대, 20대,  ... , 70대, 80대 이상으로 구분한 후 '연령대'라는 새로운 변수에 저장"
      ],
      "metadata": {
        "id": "FbMoIYztp3_F"
      }
    },
    {
      "cell_type": "markdown",
      "source": [
        "**2) 데이터 전처리: 결측치 제거**"
      ],
      "metadata": {
        "id": "JPA6pVEGlb33"
      }
    },
    {
      "cell_type": "code",
      "source": [
        "# '흡연상태'에 결측치가 포함된 행 제거\n",
        "health_1 = health.copy()\n",
        "health_1 = health_1.dropna(subset = ['흡연상태'], axis=0)   \n",
        "print(health_1.isnull().sum())"
      ],
      "metadata": {
        "id": "Bg5riTV3laeS"
      },
      "execution_count": null,
      "outputs": []
    },
    {
      "cell_type": "markdown",
      "source": [
        "**3) 데이터 전처리: 결측치 제거와 새로운 변수 '연령대 별 금연비율' 추가**"
      ],
      "metadata": {
        "id": "rE1rbFWnrpaS"
      }
    },
    {
      "cell_type": "code",
      "source": [
        "# '금연중' 변수 추가\n",
        "health_1 = health[['연령대','흡연상태']]\n",
        "health_1['금연중'] = health_1['흡연상태']\n",
        "print(health_1)\n",
        "\n",
        "# 'NotNow'의 빈도수 파악\n",
        "health_1 = health_1.replace({'금연중':'No'},np.NAN ) \n",
        "health_1 = health_1.replace({'금연중':'Yes'},np.NAN )\n",
        "health_1 = health_1.replace({'금연중':'NotNow'},'yes')\n",
        "\n",
        "health_age = health_1.groupby('연령대').count()\n",
        "print(health_age)"
      ],
      "metadata": {
        "id": "GELIjYv06mZO"
      },
      "execution_count": null,
      "outputs": []
    },
    {
      "cell_type": "code",
      "source": [
        "# '금연비율' 변수 추가\n",
        "health_age.info()\n",
        "\n",
        "health_age['금연비율'] = health_age['금연중']/health_age['흡연상태']*100\n",
        "print(health_age)"
      ],
      "metadata": {
        "id": "X6sNSSyf7rHf"
      },
      "execution_count": null,
      "outputs": []
    },
    {
      "cell_type": "markdown",
      "source": [
        "**3) 데이터 시각화**"
      ],
      "metadata": {
        "id": "H-vhIMRzMjSj"
      }
    },
    {
      "cell_type": "code",
      "source": [
        "# 라인 그래프\n",
        "import seaborn as sns\n",
        "sns.lineplot(data = health_age, x = '연령대', y = '금연비율')"
      ],
      "metadata": {
        "id": "Cm8OUKnKJYXD",
        "colab": {
          "base_uri": "https://localhost:8080/",
          "height": 297
        },
        "outputId": "7478ddda-ac8b-4030-c94b-0c24402835ce"
      },
      "execution_count": null,
      "outputs": [
        {
          "output_type": "execute_result",
          "data": {
            "text/plain": [
              "<matplotlib.axes._subplots.AxesSubplot at 0x7f579aa40390>"
            ]
          },
          "metadata": {},
          "execution_count": 19
        },
        {
          "output_type": "display_data",
          "data": {
            "text/plain": [
              "<Figure size 432x288 with 1 Axes>"
            ],
            "image/png": "[encoded data removed]"
          },
          "metadata": {
            "needs_background": "light"
          }
        }
      ]
    },
    {
      "cell_type": "markdown",
      "source": [
        "**4) 결과 및 인사이트**\n",
        "\n",
        "40대부터 80대 이상의 금연비율(흡연상태가 NotNow인 응답자의 빈도수/연령대별 흡연상태 응답자수*100)을 라인 그래프로 나타낸 결과는 다음과 같다.\n",
        "\n",
        "40대부터 70대까지의 금연비율은 18~19%대로 거의 비슷한 수치를 나타내는 것을 알 수 있었다. 그 중 50대(19.9%)가 가장 높은 금연비율을 나타냈으며 50대가 지난 이후로는 금연비율이 점차 감소하는 추세를 보이고 있다. 특히 80대 이상의 금연비율은 16.2%로 50대에 비해 3.7%가 줄어든 것을 알 수 있다.\n",
        "\n",
        "따라서 금연비율이 가장 큰 폭으로 증가하는 50대를 대상으로는 금연을 시작할 수 있는 캠페인의 집중 타겟으로 설정하는 것이 효과적이다. 한편 80대 이상이 될 때 금연비율이 가장 큰 폭으로 감소하므로 80대 이상을 대상으로는 금연을 유지할 수 있는 캠페인 시행이 효과적이다.\n"
      ],
      "metadata": {
        "id": "77-R8LjdM99f"
      }
    },
    {
      "cell_type": "markdown",
      "source": [
        "###**vis2. 트리글리세라이드와 총콜레스테롤의 상관관계**를 보여주는 **산점도 그래프**\n",
        "\n"
      ],
      "metadata": {
        "id": "pj-YowijNa_8"
      }
    },
    {
      "cell_type": "markdown",
      "source": [
        "**1) 데이터 전처리: 결측치 제거**"
      ],
      "metadata": {
        "id": "iG8jTtTXAbvD"
      }
    },
    {
      "cell_type": "code",
      "source": [
        "# '트리글리세라이드' 또는 '총콜레스테롤'에 결측치를 포함한 행 제거\n",
        "health_2 = health.copy()\n",
        "health_2 = health_2.dropna(subset = ['트리글리세라이드'], axis=0)   \n",
        "health_2 = health_2.dropna(subset = ['총콜레스테롤'], axis=0)  \n",
        "\n",
        "print(health_2.isnull().sum())\n",
        "\n",
        "#참고) health_2 = health_2[['트리글리세라이드','총콜레스테롤']].dropna(axis=0): 2개의 변수(열)만 남기는 방법"
      ],
      "metadata": {
        "id": "yAJT5v-iAffC",
        "colab": {
          "base_uri": "https://localhost:8080/"
        },
        "outputId": "505c48a6-59b0-4e82-f1cd-6d7e06bdc62e"
      },
      "execution_count": null,
      "outputs": [
        {
          "output_type": "stream",
          "name": "stdout",
          "text": [
            "기준년도              0\n",
            "가입자일련번호           0\n",
            "시도코드              0\n",
            "성별코드              0\n",
            "연령대코드(5세단위)       0\n",
            "연령대               0\n",
            "신장(5Cm단위)         0\n",
            "체중(5Kg 단위)        0\n",
            "허리둘레              0\n",
            "시력(좌)             0\n",
            "시력(우)             0\n",
            "청력(좌)             0\n",
            "청력(우)             0\n",
            "수축기혈압             0\n",
            "이완기혈압             0\n",
            "식전혈당(공복혈당)        0\n",
            "총콜레스테롤            0\n",
            "트리글리세라이드          0\n",
            "HDL콜레스테롤          0\n",
            "LDL콜레스테롤         67\n",
            "혈색소               0\n",
            "요단백              21\n",
            "혈청크레아티닌           0\n",
            "(혈청지오티)AST        0\n",
            "(혈청지오티)ALT        0\n",
            "감마지티피             0\n",
            "흡연상태              0\n",
            "음주여부              1\n",
            "구강검진수검여부          0\n",
            "치아우식증유무        2766\n",
            "치석             2766\n",
            "데이터공개일자           0\n",
            "dtype: int64\n"
          ]
        }
      ]
    },
    {
      "cell_type": "markdown",
      "source": [
        "**2) 데이터 전처리: 이상치 제거**"
      ],
      "metadata": {
        "id": "q5DPKHspEGEA"
      }
    },
    {
      "cell_type": "code",
      "source": [
        "# '트리글리세라이드'의 이상치 제거\n",
        "sns.boxplot(data = health_2, y = '트리글리세라이드')\n",
        "\n",
        "q1=health_2['트리글리세라이드'].quantile(0.25)\n",
        "q3=health_2['트리글리세라이드'].quantile(0.75)\n",
        "iqr1=q3-q1\n",
        "\n",
        "condition1 = health_2['트리글리세라이드']>q3+1.5*iqr1\n",
        "a = health_2[condition1].index\n",
        "health_2.drop(a,inplace=True)"
      ],
      "metadata": {
        "colab": {
          "base_uri": "https://localhost:8080/",
          "height": 252
        },
        "id": "QnqJ_1oND9N3",
        "outputId": "3d4b7baa-72d8-4079-b5fa-82eeff711510"
      },
      "execution_count": null,
      "outputs": [
        {
          "output_type": "display_data",
          "data": {
            "text/plain": [
              "<Figure size 432x288 with 1 Axes>"
            ],
            "image/png": "[encoded data removed]"
          },
          "metadata": {
            "needs_background": "light"
          }
        }
      ]
    },
    {
      "cell_type": "code",
      "source": [
        "# '총콜레스테롤'의 이상치 제거\n",
        "sns.boxplot(data = health_2, y = '총콜레스테롤')\n",
        "\n",
        "q2=health_2['총콜레스테롤'].quantile(0.25)\n",
        "q4=health_2['총콜레스테롤'].quantile(0.75)\n",
        "iqr2=q4-q2\n",
        "\n",
        "condition2 = health_2['총콜레스테롤']>q4+1.5*iqr2\n",
        "b = health_2[condition2].index\n",
        "health_2.drop(b,inplace=True)\n"
      ],
      "metadata": {
        "colab": {
          "base_uri": "https://localhost:8080/",
          "height": 252
        },
        "id": "_QGhmCsRGYIp",
        "outputId": "5379e364-b855-4f00-cff5-397ae72ab7f3"
      },
      "execution_count": null,
      "outputs": [
        {
          "output_type": "display_data",
          "data": {
            "text/plain": [
              "<Figure size 432x288 with 1 Axes>"
            ],
            "image/png": "[encoded data removed]"
          },
          "metadata": {
            "needs_background": "light"
          }
        }
      ]
    },
    {
      "cell_type": "markdown",
      "source": [
        "**3) 데이터 시각화**"
      ],
      "metadata": {
        "id": "4EH0yG8Vs3Y5"
      }
    },
    {
      "cell_type": "code",
      "source": [
        "# 산점도 그래프1: 모든 범위\n",
        "health_2.plot(kind='scatter',x='트리글리세라이드',y='총콜레스테롤')\n",
        "\n",
        "# 산점도 그래프2: TG와 총콜레스테롤 모두 비정상적 수치일 때\n",
        "health_2.plot(kind='scatter',x='트리글리세라이드',y='총콜레스테롤') .set(xlim=(150,300),ylim=(200,320))"
      ],
      "metadata": {
        "colab": {
          "base_uri": "https://localhost:8080/",
          "height": 563
        },
        "id": "SLGF4qBFs63L",
        "outputId": "5ad4df2a-6e5d-404f-ca9b-dcce37aed6d1"
      },
      "execution_count": null,
      "outputs": [
        {
          "output_type": "execute_result",
          "data": {
            "text/plain": [
              "[(200.0, 320.0), (150.0, 300.0)]"
            ]
          },
          "metadata": {},
          "execution_count": 36
        },
        {
          "output_type": "display_data",
          "data": {
            "text/plain": [
              "<Figure size 432x288 with 1 Axes>"
            ],
            "image/png": "[encoded data removed]"
          },
          "metadata": {
            "needs_background": "light"
          }
        },
        {
          "output_type": "display_data",
          "data": {
            "text/plain": [
              "<Figure size 432x288 with 1 Axes>"
            ],
            "image/png": "[encoded data removed]"
          },
          "metadata": {
            "needs_background": "light"
          }
        }
      ]
    },
    {
      "cell_type": "markdown",
      "source": [
        "**4) 상관관계 분석**"
      ],
      "metadata": {
        "id": "bCAEWwPD1MS_"
      }
    },
    {
      "cell_type": "code",
      "source": [
        "# 피어슨상관계수 도출\n",
        "health_corr = health_2[['트리글리세라이드','총콜레스테롤']]\n",
        "\n",
        "corr = health_corr.corr(method = 'pearson')\n",
        "print(corr)"
      ],
      "metadata": {
        "colab": {
          "base_uri": "https://localhost:8080/"
        },
        "id": "KrwxWLOW1XEM",
        "outputId": "81aec7e7-d1d0-4e2e-d9ae-cf6a8b2f1368"
      },
      "execution_count": null,
      "outputs": [
        {
          "output_type": "stream",
          "name": "stdout",
          "text": [
            "          트리글리세라이드    총콜레스테롤\n",
            "트리글리세라이드  1.000000  0.226046\n",
            "총콜레스테롤    0.226046  1.000000\n"
          ]
        }
      ]
    },
    {
      "cell_type": "markdown",
      "source": [
        "**5) 결과 및 인사이트**\n",
        "\n",
        "트리글리세라이드(이하 TG)는 지방의 한 형태로서 몸의 주요 에너지원이다. 혈중 TG의 증가는 심혈관 질환 발병 증가와 관련이 있어 심혈관 질환 검사에 주로 사용된다. 한편, 세포막과 호르몬을 만드는 데에 사용되는 총콜레스테롤 역시 심혈관 질환의 위험도를 판별하기 위한 검사에 주로 사용된다. 이를 바탕으로 심혈관 질환 검사에 사용되는 TG와 총콜레스테롤 두 변수의 상관관계를 파악해보고자 했다.\n",
        "\n",
        "산점도 그래프2: TG는 150미만일 때, 총콜레스테롤은 200미만일 때 정상적인 수치이며 여기서 벗어날 때 심혈관 질환 위험이 있다고 판단할 수 있다. 따라서 산점도 그래프의 x축의 최소값은 150, y축의 최소값은 200으로 정해 심혈관 질환이 의심되는 비정상적 수치에 해당하는 데이터를 산점도 그래프2로 나타냈다.\n",
        "\n",
        "산점도 그래프1,2를 분석한 결과 산점도가 매우 분산되어 있으며 선형을 나타내고 있지 않았다. 즉, TG와 총콜레스테롤 두 변수 간의 상관관계는 매우 약하다는 것을 알 수 있다. 추가적으로 피어슨상관계수를 도출해 검정한 결과 피어슨상관계수의 값이 0.23으로 상관관계가 약하다는 것을 확인할 수 있다.\n",
        "\n",
        "즉, TG와 총콜레스테롤의 증가는 심혈관 질환 발병 증가에 영향을 주고 있으나 TG와 총콜레스테롤이 서로 밀접한 관련을 갖고 있지는 않다는 것을 알 수 있다. TG가 정상적인 수치로 나오더라도 총콜레스테롤의 수치가 정상적이라고 할 수 없고, 총콜레스테롤이 비정상적이더라도 TG는 정상적인 수치가 나올 수 있으므로 심혈관 질환 검사 시 TG와 총콜레스테롤 수치를 모두 측정하는 것이 필요하다.\n"
      ],
      "metadata": {
        "id": "UIYyNWZUIb2r"
      }
    },
    {
      "cell_type": "markdown",
      "source": [
        "### **vis3. 성별과 음주여부에 따른 연령대별 감마지티피 평균**을 보여주는 **다중 막대 그래프**"
      ],
      "metadata": {
        "id": "hLghihBrPkWh"
      }
    },
    {
      "cell_type": "markdown",
      "source": [
        "**1) 데이터 전처리: 결측치 제거**"
      ],
      "metadata": {
        "id": "kFM26Hd8QIpX"
      }
    },
    {
      "cell_type": "code",
      "source": [
        "# '음주여부'에 있는 결측치 제거\n",
        "health_3 = health.copy()\n",
        "health_3 = health_3.dropna(subset = ['음주여부'], axis=0)   \n",
        "print(health_3.isnull().sum())"
      ],
      "metadata": {
        "id": "Upv5-3yDgTmK",
        "colab": {
          "base_uri": "https://localhost:8080/"
        },
        "outputId": "b25e76aa-ac3a-4b80-d7f7-649848df43e3"
      },
      "execution_count": null,
      "outputs": [
        {
          "output_type": "stream",
          "name": "stdout",
          "text": [
            "기준년도              0\n",
            "가입자일련번호           0\n",
            "시도코드              0\n",
            "성별코드              0\n",
            "연령대코드(5세단위)       0\n",
            "연령대               0\n",
            "신장(5Cm단위)         0\n",
            "체중(5Kg 단위)        0\n",
            "허리둘레              0\n",
            "시력(좌)             0\n",
            "시력(우)             0\n",
            "청력(좌)             0\n",
            "청력(우)             0\n",
            "수축기혈압            88\n",
            "이완기혈압            88\n",
            "식전혈당(공복혈당)       88\n",
            "총콜레스테롤         5956\n",
            "트리글리세라이드       5956\n",
            "HDL콜레스테롤       5956\n",
            "LDL콜레스테롤       6023\n",
            "혈색소              88\n",
            "요단백             139\n",
            "혈청크레아티닌          88\n",
            "(혈청지오티)AST       88\n",
            "(혈청지오티)ALT       88\n",
            "감마지티피            88\n",
            "흡연상태              2\n",
            "음주여부              0\n",
            "구강검진수검여부          0\n",
            "치아우식증유무        6748\n",
            "치석             6748\n",
            "데이터공개일자           0\n",
            "dtype: int64\n"
          ]
        }
      ]
    },
    {
      "cell_type": "markdown",
      "source": [
        "**2) 데이터 시각화**"
      ],
      "metadata": {
        "id": "0d0DBuXOltkp"
      }
    },
    {
      "cell_type": "code",
      "source": [
        "# 집단별 감마지티피 평균 만들기\n",
        "health_mean = health_3.groupby(['성별코드','음주여부','연령대'], as_index = True).agg(평균감마지티피 = ('감마지티피','mean'))\n",
        "health_df = health_mean.unstack()\n",
        "print(health_df)"
      ],
      "metadata": {
        "colab": {
          "base_uri": "https://localhost:8080/"
        },
        "id": "uT4lo6W-lyNs",
        "outputId": "a3925bf9-30bf-4baa-d67c-3723f8fae0a0"
      },
      "execution_count": null,
      "outputs": [
        {
          "output_type": "stream",
          "name": "stdout",
          "text": [
            "             평균감마지티피                                            \n",
            "연령대              40대        50대        60대        70대     80대 이상\n",
            "성별코드 음주여부                                                       \n",
            "F    No    20.117512  24.451935  26.258679  22.885375  26.507042\n",
            "     Yes   24.312802  28.630273  28.378981  24.819444  23.181818\n",
            "M    No    36.365759  36.438547  33.565947  26.539171  35.207317\n",
            "     Yes   57.833811  56.698723  54.132626  47.588983  54.785714\n"
          ]
        }
      ]
    },
    {
      "cell_type": "code",
      "source": [
        "# 다중 막대 그래프\n",
        "health_df.plot(kind='bar', \n",
        "               figsize=(9,6), \n",
        "               title=\"성별과 음주여부에 따른 연령대별 감마지티피 평균\")"
      ],
      "metadata": {
        "colab": {
          "base_uri": "https://localhost:8080/",
          "height": 451
        },
        "id": "H-fQVOZMtzIh",
        "outputId": "1dbc3545-41de-489c-f83f-78f84085e3f6"
      },
      "execution_count": null,
      "outputs": [
        {
          "output_type": "execute_result",
          "data": {
            "text/plain": [
              "<matplotlib.axes._subplots.AxesSubplot at 0x7f579a6f7350>"
            ]
          },
          "metadata": {},
          "execution_count": 39
        },
        {
          "output_type": "display_data",
          "data": {
            "text/plain": [
              "<Figure size 648x432 with 1 Axes>"
            ],
            "image/png": "[encoded data removed]"
          },
          "metadata": {
            "needs_background": "light"
          }
        }
      ]
    },
    {
      "cell_type": "markdown",
      "source": [
        "**3) 결과 및 인사이트**\n",
        "\n",
        "감마지티피(γ-GTP)는 주로 간에 분포하는 효소로 알코올에 민감하게 반응하며 간이나 담도에 질환이 있을 때 비교적 빠르게 이상치를 보이는 특성이 있어 간 질환 검사에 사용된다. 남성의 경우 63 IU/L이상, 여성의 경우 35IU/L이상일 때 이상치라고 볼 수 있다.\n",
        "\n",
        "연령대별 감마지티피의 평균을 성별과 음주여부에 따라 4개의 그룹으로 나누어 다중막대그래프로 나타냈으며 그 결과는 다음과 같다.\n",
        "\n",
        "먼저 4개의 그룹에 속한 연령대별 평균 감마지티피의 값이 모두 정상수치에 포함되고 있다. 한편, 80대 이상 여성을 제외하고 여성과 남성 모두 음주를 하는 경우가 그렇지 않은 경우에 비해 평균 감마지티피의 값이 높았다. 다만 여성의 경우 음주여부에 따른 평균 감마지티피 차이가 크게 드러나지 않은 반면 남성의 경우 음주여부에 따라 평균 감마지티피가 크게 차이를 보이고 있다.\n",
        "\n",
        "그룹별로 가장 높은 수치를 보인 연령대를 찾아보면 술을 마시지 않는 여성은 80대 이상이, 술을 마시는 여성은 50대가, 술을 마시지 않는 남성은 40대와 50대가, 술을 마시는 남성은 40대임을 확인할 수 있다.\n",
        "\n",
        "다중막대그래프의 결과를 바탕으로 다음과 같은 결론을 도출할 수 있다. 먼저, 남성의 경우 음주여부와 상관없이 40대와 50대에 평균 감마지티피 값이 비교적 높은 수치를 보였기 때문에 이 시기에 간 질환 검사를 집중적으로 받는 것을 권장하는 바이다.\n",
        "\n",
        "또한 남성의 경우 음주여부가 감마지티피 수치에 큰 영향을 주고 있기 때문에 술을 줄이거나 아예 마시지 않는 것이 감마지티피 수치를 낮추는 데에 큰 도움이 될 것이다.\n",
        "\n",
        "다음으로 여성의 경우 음주여부가 감마지티피 수치에 큰 영향을 미치는 것은 아니지만 80대 이상을 제외한 연령대에서 술을 마시는 집단이 그렇지 않은 집단에 비해 감마지티피 수치가 높았으므로 감마지티피 수치를 낮추고 싶다면 술을 줄이거나 끊는 것을 권장한다.  \n",
        "\n",
        "\n",
        "\n"
      ],
      "metadata": {
        "id": "4ZhEWztOxosS"
      }
    }
  ]
}